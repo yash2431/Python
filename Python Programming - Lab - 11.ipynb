{
 "cells": [
  {
   "cell_type": "markdown",
   "metadata": {},
   "source": [
    "<a href='https://www.darshan.ac.in/'> <img src='https://www.darshan.ac.in/Content/media/DU_Logo.svg' width=\"250\" height=\"300\"/></a>\n",
    "<pre>\n",
    "<center><b><h1>Python Programming - 2301CS404</b></center>\n",
    "<center><b><h1>Lab-11</b></center> \n",
    "<center><b><h1>Yash Pipalava (23010101208)</b></center>    \n",
    "<pre>"
   ]
  },
  {
   "cell_type": "markdown",
   "metadata": {},
   "source": [
    "# Modules"
   ]
  },
  {
   "cell_type": "markdown",
   "metadata": {},
   "source": [
    "### 01) WAP to create Calculator module which defines functions like add, sub,mul and div. \n",
    "### Create another .py file that uses the functions available in Calculator module."
   ]
  },
  {
   "cell_type": "code",
   "execution_count": 2,
   "metadata": {},
   "outputs": [
    {
     "name": "stdout",
     "output_type": "stream",
     "text": [
      "Addition: 15\n",
      "Subtraction: 5\n",
      "Multiplication: 50\n",
      "Division: 2.0\n"
     ]
    }
   ],
   "source": [
    "import calculate\n",
    "\n",
    "def main():\n",
    "    num1 = 10\n",
    "    num2 = 5\n",
    "\n",
    "    print(\"Addition:\", calculate.add(num1, num2))\n",
    "    print(\"Subtraction:\", calculate.sub(num1, num2))\n",
    "    print(\"Multiplication:\", calculate.mul(num1, num2))\n",
    "    print(\"Division:\", calculate.div(num1, num2))\n",
    "\n",
    "if __name__ == \"__main__\":\n",
    "    main()"
   ]
  },
  {
   "cell_type": "markdown",
   "metadata": {},
   "source": [
    "### 02) WAP to pick a random character from a given String."
   ]
  },
  {
   "cell_type": "code",
   "execution_count": 3,
   "metadata": {},
   "outputs": [
    {
     "name": "stdout",
     "output_type": "stream",
     "text": [
      "The random character picked from the string is: o\n"
     ]
    }
   ],
   "source": [
    "import random\n",
    "\n",
    "def random_char(string):\n",
    "    return random.choice(string)\n",
    "\n",
    "string = \"Hello, World!\"\n",
    "random_character = random_char(string)\n",
    "print(f\"The random character picked from the string is: {random_character}\")"
   ]
  },
  {
   "cell_type": "markdown",
   "metadata": {},
   "source": [
    "### 03) WAP to pick a random element from a given list."
   ]
  },
  {
   "cell_type": "code",
   "execution_count": 4,
   "metadata": {},
   "outputs": [
    {
     "name": "stdout",
     "output_type": "stream",
     "text": [
      "The random element picked from the list is: 2\n"
     ]
    }
   ],
   "source": [
    "import random\n",
    "\n",
    "def random_element(lst):\n",
    "    return random.choice(lst)\n",
    "\n",
    "my_list = [1, 2, 3, 4, 5, 6, 7, 8, 9]\n",
    "random_item = random_element(my_list)\n",
    "print(f\"The random element picked from the list is: {random_item}\")"
   ]
  },
  {
   "cell_type": "markdown",
   "metadata": {},
   "source": [
    "### 04) WAP to roll a dice in such a way that every time you get the same number."
   ]
  },
  {
   "cell_type": "code",
   "execution_count": 5,
   "metadata": {},
   "outputs": [
    {
     "name": "stdout",
     "output_type": "stream",
     "text": [
      "The result of the dice roll is: 4\n"
     ]
    }
   ],
   "source": [
    "import random\n",
    "\n",
    "def roll_dice():\n",
    "    fixed_number = 4 \n",
    "    return fixed_number\n",
    "dice_roll = roll_dice()\n",
    "print(f\"The result of the dice roll is: {dice_roll}\")"
   ]
  },
  {
   "cell_type": "markdown",
   "metadata": {},
   "source": [
    "### 05) WAP to generate 3 random integers between 100 and 999 which is divisible by 5."
   ]
  },
  {
   "cell_type": "code",
   "execution_count": 6,
   "metadata": {},
   "outputs": [
    {
     "name": "stdout",
     "output_type": "stream",
     "text": [
      "3 random integers between 100 and 999 divisible by 5: [755, 620, 565]\n"
     ]
    }
   ],
   "source": [
    "import random\n",
    "\n",
    "def generate_random_numbers():\n",
    "    numbers = []\n",
    "    \n",
    "    while len(numbers) < 3:\n",
    "        num = random.randint(100, 999)\n",
    "        if num % 5 == 0:\n",
    "            numbers.append(num)\n",
    "    \n",
    "    return numbers\n",
    "\n",
    "random_numbers = generate_random_numbers()\n",
    "print(f\"3 random integers between 100 and 999 divisible by 5: {random_numbers}\")"
   ]
  },
  {
   "cell_type": "markdown",
   "metadata": {},
   "source": [
    "### 06) WAP to generate 100 random lottery tickets and pick two lucky tickets from it and announce them as Winner and Runner up respectively."
   ]
  },
  {
   "cell_type": "code",
   "execution_count": 7,
   "metadata": {},
   "outputs": [
    {
     "name": "stdout",
     "output_type": "stream",
     "text": [
      "The Winner's ticket is: 516216\n",
      "The Runner-up's ticket is: 617292\n"
     ]
    }
   ],
   "source": [
    "import random\n",
    "\n",
    "def generate_lottery_tickets(num_tickets=100):\n",
    "    tickets = []\n",
    "    for _ in range(num_tickets):\n",
    "        ticket = random.randint(100000, 999999)\n",
    "        tickets.append(ticket)\n",
    "    return tickets\n",
    "\n",
    "def pick_winners(tickets):\n",
    "    winner = random.choice(tickets)\n",
    "    tickets.remove(winner)  \n",
    "    runner_up = random.choice(tickets)\n",
    "    return winner, runner_up\n",
    "\n",
    "lottery_tickets = generate_lottery_tickets()\n",
    "winner, runner_up = pick_winners(lottery_tickets)\n",
    "print(f\"The Winner's ticket is: {winner}\")\n",
    "print(f\"The Runner-up's ticket is: {runner_up}\")"
   ]
  },
  {
   "cell_type": "markdown",
   "metadata": {},
   "source": [
    "### 07) WAP to print current date and time in Python."
   ]
  },
  {
   "cell_type": "code",
   "execution_count": 13,
   "metadata": {
    "scrolled": true
   },
   "outputs": [
    {
     "name": "stdout",
     "output_type": "stream",
     "text": [
      "2025-02-14 12:44:07.250811\n"
     ]
    }
   ],
   "source": [
    "import datetime\n",
    "\n",
    "d = datetime.datetime.now()\n",
    "print(d)"
   ]
  },
  {
   "cell_type": "markdown",
   "metadata": {},
   "source": [
    "### 08) Subtract a week (7 days) from a given date in Python."
   ]
  },
  {
   "cell_type": "code",
   "execution_count": 15,
   "metadata": {},
   "outputs": [
    {
     "name": "stdout",
     "output_type": "stream",
     "text": [
      "Current date: 2025-02-14 12:58:31.379917\n",
      "Subtracted date: 2025-02-07 12:58:31.379917\n"
     ]
    }
   ],
   "source": [
    "from datetime import datetime,timedelta\n",
    "\n",
    "print(\"Current date:\", datetime.now())\n",
    "print(\"Subtracted date:\", datetime.now()-timedelta(days=7))"
   ]
  },
  {
   "cell_type": "markdown",
   "metadata": {},
   "source": [
    "### 09) WAP to Calculate number of days between two given dates."
   ]
  },
  {
   "cell_type": "code",
   "execution_count": 16,
   "metadata": {},
   "outputs": [
    {
     "name": "stdout",
     "output_type": "stream",
     "text": [
      "Number of days between 2025-01-01 and 2025-02-14: 44 days\n"
     ]
    }
   ],
   "source": [
    "from datetime import datetime\n",
    "\n",
    "def calculate_days_between_dates(date1_str, date2_str, date_format=\"%Y-%m-%d\"):\n",
    "    date1 = datetime.strptime(date1_str, date_format)\n",
    "    date2 = datetime.strptime(date2_str, date_format)\n",
    "    delta = date2 - date1  \n",
    "    return abs(delta.days)\n",
    "date1 = \"2025-01-01\"\n",
    "date2 = \"2025-02-14\"\n",
    "days_between = calculate_days_between_dates(date1, date2)\n",
    "print(f\"Number of days between {date1} and {date2}: {days_between} days\")"
   ]
  },
  {
   "cell_type": "markdown",
   "metadata": {},
   "source": [
    "### 10) WAP to Find the day of the week of a given date.(i.e. wether it is sunday/monday/tuesday/etc.)"
   ]
  },
  {
   "cell_type": "code",
   "execution_count": 18,
   "metadata": {},
   "outputs": [
    {
     "name": "stdout",
     "output_type": "stream",
     "text": [
      "The day of the week for 2025-02-14 is: Friday\n"
     ]
    }
   ],
   "source": [
    "from datetime import datetime\n",
    "def find_day_of_week(date_str, date_format=\"%Y-%m-%d\"):\n",
    "    date_obj = datetime.strptime(date_str, date_format)\n",
    "    day_of_week = date_obj.strftime('%A')\n",
    "    return day_of_week\n",
    "\n",
    "date_input = \"2025-02-14\"\n",
    "day = find_day_of_week(date_input)\n",
    "print(f\"The day of the week for {date_input} is: {day}\")"
   ]
  },
  {
   "cell_type": "markdown",
   "metadata": {},
   "source": [
    "### 11) WAP to demonstrate the use of date time module."
   ]
  },
  {
   "cell_type": "code",
   "execution_count": 20,
   "metadata": {},
   "outputs": [
    {
     "name": "stdout",
     "output_type": "stream",
     "text": [
      "Friday\n",
      "Fri\n",
      "5\n",
      "Feb\n",
      "Feb\n",
      "February\n"
     ]
    }
   ],
   "source": [
    "import datetime\n",
    "\n",
    "d = datetime.datetime.now()\n",
    "print(d.strftime(\"%A\"))\n",
    "print(d.strftime(\"%a\"))\n",
    "print(d.strftime(\"%w\"))\n",
    "print(d.strftime(\"%b\"))\n",
    "print(d.strftime(\"%b\"))\n",
    "print(d.strftime(\"%B\"))"
   ]
  },
  {
   "cell_type": "markdown",
   "metadata": {},
   "source": [
    "### 12) WAP to demonstrate the use of the math module."
   ]
  },
  {
   "cell_type": "code",
   "execution_count": 24,
   "metadata": {},
   "outputs": [
    {
     "name": "stdout",
     "output_type": "stream",
     "text": [
      "8.0\n",
      "2\n",
      "1\n",
      "3.141592653589793\n",
      "64.0\n"
     ]
    }
   ],
   "source": [
    "import math\n",
    "\n",
    "x = math.sqrt(64)\n",
    "z = math.ceil(1.4)\n",
    "w = math.floor(1.4)\n",
    "a = math.pi\n",
    "b = math.pow(4,3)\n",
    "print(x)\n",
    "print(z)\n",
    "print(w)\n",
    "print(a)\n",
    "print(b)"
   ]
  }
 ],
 "metadata": {
  "kernelspec": {
   "display_name": "Python 3 (ipykernel)",
   "language": "python",
   "name": "python3"
  },
  "language_info": {
   "codemirror_mode": {
    "name": "ipython",
    "version": 3
   },
   "file_extension": ".py",
   "mimetype": "text/x-python",
   "name": "python",
   "nbconvert_exporter": "python",
   "pygments_lexer": "ipython3",
   "version": "3.12.7"
  }
 },
 "nbformat": 4,
 "nbformat_minor": 4
}
