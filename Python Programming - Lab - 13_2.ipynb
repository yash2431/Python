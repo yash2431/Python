{
 "cells": [
  {
   "cell_type": "markdown",
   "metadata": {},
   "source": [
    "<a href='https://www.darshan.ac.in/'> <img src='https://www.darshan.ac.in/Content/media/DU_Logo.svg' width=\"250\" height=\"300\"/></a>\n",
    "<pre>\n",
    "<center><b><h1>Python Programming - 2301CS404</b></center>\n",
    "<center><b><h1>Lab - 13</b></center> \n",
    "<center><b><h1>Yash Pipalava (23010101208)</b></center>\n",
    "<pre>"
   ]
  },
  {
   "cell_type": "markdown",
   "metadata": {},
   "source": [
    "## Continued.."
   ]
  },
  {
   "cell_type": "markdown",
   "metadata": {},
   "source": [
    "### 10) Calculate area of a ractangle using object as an argument to a method."
   ]
  },
  {
   "cell_type": "code",
   "execution_count": 1,
   "metadata": {},
   "outputs": [
    {
     "name": "stdout",
     "output_type": "stream",
     "text": [
      "6\n"
     ]
    }
   ],
   "source": [
    "class Rectangle:\n",
    "    def __init__(self,l,b):\n",
    "        self.l = l\n",
    "        self.b = b\n",
    "        \n",
    "    def areaofrectangle(self):\n",
    "        ans = self.l*self.b\n",
    "        print(ans)\n",
    "        \n",
    "ob = Rectangle(2,3)\n",
    "ob.areaofrectangle()"
   ]
  },
  {
   "cell_type": "markdown",
   "metadata": {},
   "source": [
    "### 11) Calculate the area of a square. \n",
    "### Include a Constructor, a method to calculate area named area() and a method named output() that prints the output and is invoked by area()."
   ]
  },
  {
   "cell_type": "code",
   "execution_count": 17,
   "metadata": {},
   "outputs": [
    {
     "name": "stdout",
     "output_type": "stream",
     "text": [
      "25\n",
      "25\n"
     ]
    }
   ],
   "source": [
    "class Square:\n",
    "    value = 0\n",
    "    def __init__(self,l):\n",
    "        self.l = l\n",
    "    \n",
    "    def area(self):\n",
    "        self.output()\n",
    "        \n",
    "    def output(self):\n",
    "        l=self.l*self.l\n",
    "        print(l)\n",
    "        \n",
    "obj = Square(5)\n",
    "obj.area()\n",
    "obj.output()"
   ]
  },
  {
   "cell_type": "markdown",
   "metadata": {},
   "source": [
    "### 12) Calculate the area of a rectangle. \n",
    "### Include a Constructor, a method to calculate area named area() and a method named output() that prints the output and is invoked by area().\n",
    "### Also define a class method that compares the two sides of reactangle. An object is instantiated only if the two sides are different; otherwise a message should be displayed : THIS IS SQUARE."
   ]
  },
  {
   "cell_type": "code",
   "execution_count": 28,
   "metadata": {},
   "outputs": [
    {
     "name": "stdout",
     "output_type": "stream",
     "text": [
      "THIS IS SQUARE\n",
      "8\n"
     ]
    }
   ],
   "source": [
    "class Rectangle:\n",
    "    def __init__(self,a,b):\n",
    "        self.a = a\n",
    "        self.b = b\n",
    "        \n",
    "    def area(self):\n",
    "       self.output()\n",
    "        \n",
    "    def output(self):\n",
    "        ans = self.a*self.b\n",
    "        print(ans)\n",
    "        \n",
    "    @classmethod\n",
    "    def compares(self,l,b):\n",
    "        if l==b:\n",
    "            print(\"THIS IS SQUARE\")\n",
    "            return None\n",
    "        else:\n",
    "            return Rectangle(l,b)\n",
    "        \n",
    "\n",
    "obj = Rectangle(2,4)\n",
    "obj.compares(2,2)\n",
    "obj.output()"
   ]
  },
  {
   "cell_type": "markdown",
   "metadata": {},
   "source": [
    "### 13) Define a class Square having a private attribute \"side\". \n",
    "### Implement get_side and set_side methods to accees the private attribute from outside of the class."
   ]
  },
  {
   "cell_type": "code",
   "execution_count": 45,
   "metadata": {},
   "outputs": [
    {
     "name": "stdout",
     "output_type": "stream",
     "text": [
      "4\n"
     ]
    }
   ],
   "source": [
    "class Square:\n",
    "    __side=0\n",
    "    \n",
    "    def set_side(self,side):\n",
    "        self.__side = side\n",
    "    def get_side(self):\n",
    "        ans = self.__side*self.__side\n",
    "        print(ans)\n",
    "        \n",
    "obj = Square()\n",
    "obj.set_side(2)\n",
    "obj.get_side()"
   ]
  },
  {
   "cell_type": "markdown",
   "metadata": {},
   "source": [
    "### 14) Create a class Profit that has a method named getProfit that accepts profit from the user.\n",
    "### Create a class Loss that has a method named getLoss that accepts loss from the user.\n",
    "### Create a class BalanceSheet that inherits from both classes Profit and Loss and calculates the balanace. It has two methods getBalance() and printBalance()."
   ]
  },
  {
   "cell_type": "code",
   "execution_count": 1,
   "metadata": {},
   "outputs": [
    {
     "name": "stdin",
     "output_type": "stream",
     "text": [
      "Enter the profit amount:  12000\n",
      "Enter the loss amount:  1000\n"
     ]
    },
    {
     "name": "stdout",
     "output_type": "stream",
     "text": [
      "\n",
      "Balance Sheet Summary:\n",
      "Profit: $12000.00\n",
      "Loss: $1000.00\n",
      "Balance: $11000.00\n",
      "Status: Positive balance\n"
     ]
    }
   ],
   "source": [
    "class Profit:\n",
    "    def getProfit(self):\n",
    "        try:\n",
    "            profit = float(input(\"Enter the profit amount: \"))\n",
    "            return profit\n",
    "        except ValueError:\n",
    "            print(\"Invalid input! Please enter a numeric value.\")\n",
    "            return 0.0\n",
    "\n",
    "class Loss:\n",
    "    def getLoss(self):\n",
    "        try:\n",
    "            loss = float(input(\"Enter the loss amount: \"))\n",
    "            return loss\n",
    "        except ValueError:\n",
    "            print(\"Invalid input! Please enter a numeric value.\")\n",
    "            return 0.0\n",
    "\n",
    "class BalanceSheet(Profit, Loss):\n",
    "    def __init__(self):\n",
    "        self.profit = 0.0\n",
    "        self.loss = 0.0\n",
    "        self.balance = 0.0\n",
    "    \n",
    "    def getBalance(self):\n",
    "        self.profit = self.getProfit()\n",
    "        self.loss = self.getLoss()\n",
    "        self.balance = self.profit - self.loss\n",
    "        return self.balance\n",
    "    \n",
    "    def printBalance(self):\n",
    "        print(f\"Profit: ${self.profit:.2f}\")\n",
    "        print(f\"Loss: ${self.loss:.2f}\")\n",
    "        print(f\"Balance: ${self.balance:.2f}\")\n",
    "        if self.balance > 0:\n",
    "            print(\"Status: Positive balance\")\n",
    "        elif self.balance < 0:\n",
    "            print(\"Status: Negative balance\")\n",
    "        else:\n",
    "            print(\"Status: Break-even\")\n",
    "            \n",
    "if __name__ == \"__main__\":\n",
    "    bs = BalanceSheet()\n",
    "    bs.getBalance()\n",
    "    print(\"\\nBalance Sheet Summary:\")\n",
    "    bs.printBalance()"
   ]
  },
  {
   "cell_type": "markdown",
   "metadata": {},
   "source": [
    "### 15) WAP to demonstrate all types of inheritance."
   ]
  },
  {
   "cell_type": "code",
   "execution_count": 5,
   "metadata": {},
   "outputs": [
    {
     "name": "stdout",
     "output_type": "stream",
     "text": [
      "1. Single Inheritance Example:\n",
      "Vehicle Brand: Toyota\n",
      "Car: Toyota Camry\n",
      "\n",
      "2. Multiple Inheritance Example:\n",
      "Father's skill: Driving\n",
      "Mother's skill: Cooking\n",
      "Child's skill: Learning\n",
      "\n",
      "3. Multilevel Inheritance Example:\n",
      "Grandfather's family name: Smith\n",
      "Parent's asset: House\n",
      "Grandchild's asset: Bicycle\n",
      "\n",
      "4. Hierarchical Inheritance Example:\n",
      "Shape color: Black\n",
      "Circle radius: 5\n",
      "Shape color: Black\n",
      "Square side: 4\n",
      "\n",
      "5. Hybrid Inheritance Example:\n",
      "Species: Bat\n",
      "Has fur: True\n",
      "Can fly: True\n",
      "This is a bat!\n"
     ]
    }
   ],
   "source": [
    "print(\"1. Single Inheritance Example:\")\n",
    "class Vehicle:\n",
    "    def __init__(self, brand):\n",
    "        self.brand = brand\n",
    "    \n",
    "    def show_vehicle(self):\n",
    "        print(f\"Vehicle Brand: {self.brand}\")\n",
    "\n",
    "class Car(Vehicle):  \n",
    "    def __init__(self, brand, model):\n",
    "        super().__init__(brand)\n",
    "        self.model = model\n",
    "    \n",
    "    def show_car(self):\n",
    "        print(f\"Car: {self.brand} {self.model}\")\n",
    "\n",
    "car = Car(\"Toyota\", \"Camry\")\n",
    "car.show_vehicle()\n",
    "car.show_car()\n",
    "print()\n",
    "\n",
    "print(\"2. Multiple Inheritance Example:\")\n",
    "class Father:\n",
    "    def __init__(self):\n",
    "        self.father_skill = \"Driving\"\n",
    "    \n",
    "    def show_father_skill(self):\n",
    "        print(f\"Father's skill: {self.father_skill}\")\n",
    "\n",
    "class Mother:\n",
    "    def __init__(self):\n",
    "        self.mother_skill = \"Cooking\"\n",
    "    \n",
    "    def show_mother_skill(self):\n",
    "        print(f\"Mother's skill: {self.mother_skill}\")\n",
    "\n",
    "class Child(Father, Mother):   \n",
    "    def __init__(self):\n",
    "        Father.__init__(self)\n",
    "        Mother.__init__(self)\n",
    "        self.child_skill = \"Learning\"\n",
    "    \n",
    "    def show_child_skill(self):\n",
    "        print(f\"Child's skill: {self.child_skill}\")\n",
    "\n",
    "child = Child()\n",
    "child.show_father_skill()\n",
    "child.show_mother_skill()\n",
    "child.show_child_skill()\n",
    "print()\n",
    "\n",
    "print(\"3. Multilevel Inheritance Example:\")\n",
    "class Grandfather:\n",
    "    def __init__(self):\n",
    "        self.family_name = \"Smith\"\n",
    "    \n",
    "    def show_grandfather(self):\n",
    "        print(f\"Grandfather's family name: {self.family_name}\")\n",
    "\n",
    "class Parent(Grandfather):   \n",
    "    def __init__(self):\n",
    "        super().__init__()\n",
    "        self.parent_asset = \"House\"\n",
    "    \n",
    "    def show_parent(self):\n",
    "        print(f\"Parent's asset: {self.parent_asset}\")\n",
    "\n",
    "class Grandchild(Parent):   \n",
    "    def __init__(self):\n",
    "        super().__init__()\n",
    "        self.child_asset = \"Bicycle\"\n",
    "    \n",
    "    def show_grandchild(self):\n",
    "        print(f\"Grandchild's asset: {self.child_asset}\")\n",
    "\n",
    "grandchild = Grandchild()\n",
    "grandchild.show_grandfather()\n",
    "grandchild.show_parent()\n",
    "grandchild.show_grandchild()\n",
    "print()\n",
    "\n",
    "print(\"4. Hierarchical Inheritance Example:\")\n",
    "class Shape:\n",
    "    def __init__(self):\n",
    "        self.color = \"Black\"\n",
    "    \n",
    "    def show_color(self):\n",
    "        print(f\"Shape color: {self.color}\")\n",
    "\n",
    "class Circle(Shape):   \n",
    "    def __init__(self, radius):\n",
    "        super().__init__()\n",
    "        self.radius = radius\n",
    "    \n",
    "    def show_circle(self):\n",
    "        print(f\"Circle radius: {self.radius}\")\n",
    "\n",
    "class Square(Shape):  \n",
    "    def __init__(self, side):\n",
    "        super().__init__()\n",
    "        self.side = side\n",
    "    \n",
    "    def show_square(self):\n",
    "        print(f\"Square side: {self.side}\")\n",
    "\n",
    "circle = Circle(5)\n",
    "square = Square(4)\n",
    "circle.show_color()\n",
    "circle.show_circle()\n",
    "square.show_color()\n",
    "square.show_square()\n",
    "print()\n",
    "\n",
    "print(\"5. Hybrid Inheritance Example:\")\n",
    "class Animal:\n",
    "    def __init__(self):\n",
    "        self.species = \"Unknown\"\n",
    "    \n",
    "    def show_species(self):\n",
    "        print(f\"Species: {self.species}\")\n",
    "\n",
    "class Mammal(Animal):   \n",
    "    def __init__(self):\n",
    "        super().__init__()\n",
    "        self.has_fur = True\n",
    "    \n",
    "    def show_mammal(self):\n",
    "        print(f\"Has fur: {self.has_fur}\")\n",
    "\n",
    "class Bird(Animal):    \n",
    "    def __init__(self):\n",
    "        super().__init__()\n",
    "        self.can_fly = True\n",
    "    \n",
    "    def show_bird(self):\n",
    "        print(f\"Can fly: {self.can_fly}\")\n",
    "\n",
    "class Bat(Mammal, Bird):  \n",
    "    def __init__(self):\n",
    "        Mammal.__init__(self)\n",
    "        Bird.__init__(self)\n",
    "        self.species = \"Bat\"\n",
    "    \n",
    "    def show_bat(self):\n",
    "        print(\"This is a bat!\")\n",
    "        \n",
    "bat = Bat()\n",
    "bat.show_species()\n",
    "bat.show_mammal()\n",
    "bat.show_bird()\n",
    "bat.show_bat()"
   ]
  },
  {
   "cell_type": "markdown",
   "metadata": {},
   "source": [
    "### 16) Create a Person class with a constructor that takes two arguments name and age. \n",
    "### Create a child class Employee that inherits from Person and adds a new attribute salary. \n",
    "### Override the __init__ method in Employee to call the parent class's __init__ method using the super() and then initialize the salary attribute."
   ]
  },
  {
   "cell_type": "code",
   "execution_count": 4,
   "metadata": {},
   "outputs": [
    {
     "name": "stdout",
     "output_type": "stream",
     "text": [
      "Person Info:\n",
      "Name: abc\n",
      "Age: 25\n",
      "\n",
      "Employee Info:\n",
      "Name: bcd\n",
      "Age: 30\n",
      "Salary: $50000.00\n"
     ]
    }
   ],
   "source": [
    "class Person:\n",
    "    def __init__(self, name, age):\n",
    "        self.name = name\n",
    "        self.age = age\n",
    "    \n",
    "    def display_info(self):\n",
    "        print(f\"Name: {self.name}\")\n",
    "        print(f\"Age: {self.age}\")\n",
    "\n",
    "class Employee(Person):\n",
    "    def __init__(self, name, age, salary):\n",
    "        super().__init__(name, age)  \n",
    "        self.salary = salary       \n",
    "    \n",
    "    def display_info(self):       \n",
    "        super().display_info()     \n",
    "        print(f\"Salary: ${self.salary:.2f}\")\n",
    "\n",
    "if __name__ == \"__main__\":\n",
    "    person = Person(\"abc\", 25)\n",
    "    print(\"Person Info:\")\n",
    "    person.display_info()\n",
    "    \n",
    "    print(\"\\nEmployee Info:\")\n",
    "    employee = Employee(\"bcd\", 30, 50000)\n",
    "    employee.display_info()"
   ]
  },
  {
   "cell_type": "markdown",
   "metadata": {},
   "source": [
    "### 17) Create a Shape class with a draw method that is not implemented. \n",
    "### Create three child classes Rectangle, Circle, and Triangle that implement the draw method with their respective drawing behaviors. \n",
    "### Create a list of Shape objects that includes one instance of each child class, and then iterate through the list and call the draw method on each object."
   ]
  },
  {
   "cell_type": "code",
   "execution_count": 6,
   "metadata": {},
   "outputs": [
    {
     "name": "stdout",
     "output_type": "stream",
     "text": [
      "Drawing all shapes:\n",
      "\n",
      "Drawing a rectangle with width 5 and height 3\n",
      "*****\n",
      "*****\n",
      "*****\n",
      "\n",
      "Drawing a circle with radius 4\n",
      "\n",
      "Drawing a triangle with base 5 and height 4\n",
      "   *\n",
      "  ***\n",
      " *****\n",
      "*******\n",
      "\n"
     ]
    }
   ],
   "source": [
    "from abc import ABC, abstractmethod\n",
    "\n",
    "class Shape(ABC):\n",
    "    @abstractmethod\n",
    "    def draw(self):\n",
    "        \"\"\"Abstract method that must be implemented by child classes\"\"\"\n",
    "        pass\n",
    "\n",
    "class Rectangle(Shape):\n",
    "    def __init__(self, width, height):\n",
    "        self.width = width\n",
    "        self.height = height\n",
    "    \n",
    "    def draw(self):\n",
    "        print(f\"Drawing a rectangle with width {self.width} and height {self.height}\")\n",
    "        for _ in range(self.height):\n",
    "            print(\"*\" * self.width)\n",
    "\n",
    "class Circle(Shape):\n",
    "    def __init__(self, radius):\n",
    "        self.radius = radius\n",
    "    \n",
    "    def draw(self):\n",
    "        print(f\"Drawing a circle with radius {self.radius}\")\n",
    "\n",
    "\n",
    "class Triangle(Shape):\n",
    "    def __init__(self, base, height):\n",
    "        self.base = base\n",
    "        self.height = height\n",
    "    \n",
    "    def draw(self):\n",
    "        print(f\"Drawing a triangle with base {self.base} and height {self.height}\")\n",
    "        for i in range(self.height):\n",
    "            spaces = \" \" * (self.height - i - 1)\n",
    "            stars = \"*\" * (2 * i + 1)\n",
    "            print(spaces + stars)\n",
    "\n",
    "if __name__ == \"__main__\":\n",
    "    shapes = [\n",
    "        Rectangle(5, 3),\n",
    "        Circle(4),\n",
    "        Triangle(5, 4)\n",
    "    ]\n",
    "    \n",
    "    print(\"Drawing all shapes:\\n\")\n",
    "    for shape in shapes:\n",
    "        shape.draw()\n",
    "        print() "
   ]
  }
 ],
 "metadata": {
  "kernelspec": {
   "display_name": "Python 3 (ipykernel)",
   "language": "python",
   "name": "python3"
  },
  "language_info": {
   "codemirror_mode": {
    "name": "ipython",
    "version": 3
   },
   "file_extension": ".py",
   "mimetype": "text/x-python",
   "name": "python",
   "nbconvert_exporter": "python",
   "pygments_lexer": "ipython3",
   "version": "3.12.7"
  }
 },
 "nbformat": 4,
 "nbformat_minor": 4
}
