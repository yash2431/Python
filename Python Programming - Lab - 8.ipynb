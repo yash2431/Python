{
 "cells": [
  {
   "cell_type": "markdown",
   "metadata": {},
   "source": [
    "<a href='https://www.darshan.ac.in/'> <img src='https://www.darshan.ac.in/Content/media/DU_Logo.svg' width=\"250\" height=\"300\"/></a>\n",
    "<pre>\n",
    "<center><b><h1>Python Programming - 2301CS404</b></center>\n",
    "<center><b><h1>Lab - 8</b></center>\n",
    "<center><b><h1>Yash Pipalava (23010101208)</b></center>\n",
    "<pre>"
   ]
  },
  {
   "cell_type": "markdown",
   "metadata": {},
   "source": [
    "# User Defined Function"
   ]
  },
  {
   "cell_type": "markdown",
   "metadata": {},
   "source": [
    "### 01) Write a function to calculate BMI given mass and height. (BMI = mass/h**2)"
   ]
  },
  {
   "cell_type": "code",
   "execution_count": 3,
   "metadata": {},
   "outputs": [
    {
     "name": "stdin",
     "output_type": "stream",
     "text": [
      "Enter your mass in kilograms:  65\n",
      "Enter your height in meters:  1.65\n"
     ]
    },
    {
     "name": "stdout",
     "output_type": "stream",
     "text": [
      "Your BMI is: 23.88\n"
     ]
    }
   ],
   "source": [
    "def calculate_bmi(mass, height):\n",
    "    bmi = mass / (height ** 2)\n",
    "    return bmi\n",
    "mass = float(input(\"Enter your mass in kilograms: \"))\n",
    "height = float(input(\"Enter your height in meters: \"))\n",
    "bmi = calculate_bmi(mass, height)\n",
    "print(f\"Your BMI is: {bmi:.2f}\")"
   ]
  },
  {
   "cell_type": "markdown",
   "metadata": {},
   "source": [
    "### 02) Write a function that add first n numbers."
   ]
  },
  {
   "cell_type": "code",
   "execution_count": 4,
   "metadata": {},
   "outputs": [
    {
     "name": "stdin",
     "output_type": "stream",
     "text": [
      "Enter a positive integer (n):  25\n"
     ]
    },
    {
     "name": "stdout",
     "output_type": "stream",
     "text": [
      "The sum of the first 25 natural numbers is: 325\n"
     ]
    }
   ],
   "source": [
    "def sum_of_first_n_numbers(n):\n",
    "    return n * (n + 1) // 2\n",
    "n = int(input(\"Enter a positive integer (n): \"))\n",
    "result = sum_of_first_n_numbers(n)\n",
    "print(f\"The sum of the first {n} natural numbers is: {result}\")"
   ]
  },
  {
   "cell_type": "markdown",
   "metadata": {},
   "source": [
    "### 03) Write a function that returns 1 if the given number is Prime or 0 otherwise."
   ]
  },
  {
   "cell_type": "code",
   "execution_count": 7,
   "metadata": {},
   "outputs": [
    {
     "name": "stdin",
     "output_type": "stream",
     "text": [
      "Enter a number:  13\n"
     ]
    },
    {
     "name": "stdout",
     "output_type": "stream",
     "text": [
      "The number 13 is prime: 1\n"
     ]
    }
   ],
   "source": [
    "def is_prime(num):\n",
    "    if num <= 1:\n",
    "        return 0\n",
    "    for i in range(2, int(num**0.5) + 1):\n",
    "        if num % i == 0:\n",
    "            return 0 \n",
    "    return 1 \n",
    "number = int(input(\"Enter a number: \"))\n",
    "result = is_prime(number)\n",
    "print(f\"The number {number} is prime: {result}\")"
   ]
  },
  {
   "cell_type": "markdown",
   "metadata": {},
   "source": [
    "### 04) Write a function that returns the list of Prime numbers between given two numbers."
   ]
  },
  {
   "cell_type": "code",
   "execution_count": 8,
   "metadata": {},
   "outputs": [
    {
     "name": "stdin",
     "output_type": "stream",
     "text": [
      "Enter the starting number:  25\n",
      "Enter the ending number:  56\n"
     ]
    },
    {
     "name": "stdout",
     "output_type": "stream",
     "text": [
      "Prime numbers between 25 and 56: [29, 31, 37, 41, 43, 47, 53]\n"
     ]
    }
   ],
   "source": [
    "def is_prime(num):\n",
    "\n",
    "    if num <= 1:\n",
    "        return False\n",
    "    for i in range(2, int(num**0.5) + 1):\n",
    "        if num % i == 0:\n",
    "            return False\n",
    "    return True\n",
    "\n",
    "def primes_between(start, end):\n",
    "    prime_list = []\n",
    "    for num in range(start, end + 1):\n",
    "        if is_prime(num):\n",
    "            prime_list.append(num)\n",
    "    return prime_list\n",
    "start = int(input(\"Enter the starting number: \"))\n",
    "end = int(input(\"Enter the ending number: \"))\n",
    "\n",
    "prime_numbers = primes_between(start, end)\n",
    "print(f\"Prime numbers between {start} and {end}: {prime_numbers}\")"
   ]
  },
  {
   "cell_type": "markdown",
   "metadata": {},
   "source": [
    "### 05) Write a function that returns True if the given string is Palindrome or False otherwise."
   ]
  },
  {
   "cell_type": "code",
   "execution_count": 10,
   "metadata": {},
   "outputs": [
    {
     "name": "stdin",
     "output_type": "stream",
     "text": [
      "Enter a string:  bab\n"
     ]
    },
    {
     "name": "stdout",
     "output_type": "stream",
     "text": [
      "Is the string a palindrome? True\n"
     ]
    }
   ],
   "source": [
    "def is_palindrome(s):\n",
    "    s = s.replace(\" \", \"\").lower()\n",
    "    # Compare the string with its reverse\n",
    "    return s == s[::-1]\n",
    "input_string = input(\"Enter a string: \")\n",
    "result = is_palindrome(input_string)\n",
    "print(f\"Is the string a palindrome? {result}\")"
   ]
  },
  {
   "cell_type": "markdown",
   "metadata": {},
   "source": [
    "### 06) Write a function that returns the sum of all the elements of the list."
   ]
  },
  {
   "cell_type": "code",
   "execution_count": 11,
   "metadata": {},
   "outputs": [
    {
     "name": "stdin",
     "output_type": "stream",
     "text": [
      "Enter elements of the list separated by spaces:  2 5 5 2 2 \n"
     ]
    },
    {
     "name": "stdout",
     "output_type": "stream",
     "text": [
      "The sum of all elements in the list is: 16.0\n"
     ]
    }
   ],
   "source": [
    "def sum_of_list_elements(lst):\n",
    "    return sum(lst)\n",
    "numbers = list(map(float, input(\"Enter elements of the list separated by spaces: \").split()))\n",
    "result = sum_of_list_elements(numbers)\n",
    "print(f\"The sum of all elements in the list is: {result}\")"
   ]
  },
  {
   "cell_type": "markdown",
   "metadata": {},
   "source": [
    "### 07) Write a function to calculate the sum of the first element of each tuples inside the list."
   ]
  },
  {
   "cell_type": "code",
   "execution_count": 12,
   "metadata": {},
   "outputs": [
    {
     "name": "stdout",
     "output_type": "stream",
     "text": [
      "The sum of the first elements is: 9\n"
     ]
    }
   ],
   "source": [
    "def sum_of_first_elements(tuples_list):\n",
    "    return sum(t[0] for t in tuples_list)\n",
    "tuples_list = [(1, 2), (3, 4), (5, 6)]\n",
    "result = sum_of_first_elements(tuples_list)\n",
    "print(f\"The sum of the first elements is: {result}\")"
   ]
  },
  {
   "cell_type": "markdown",
   "metadata": {},
   "source": [
    "### 08) Write a recursive function to find nth term of Fibonacci Series."
   ]
  },
  {
   "cell_type": "code",
   "execution_count": 23,
   "metadata": {},
   "outputs": [
    {
     "name": "stdin",
     "output_type": "stream",
     "text": [
      "Enter the term position (n):  11\n"
     ]
    },
    {
     "name": "stdout",
     "output_type": "stream",
     "text": [
      "The 11th term of the Fibonacci Series is: 89\n"
     ]
    }
   ],
   "source": [
    "def fibonacci(n):\n",
    "    if n <= 0:\n",
    "        return 0 \n",
    "    elif n == 1:\n",
    "        return 1 \n",
    "    else:\n",
    "        return fibonacci(n - 1) + fibonacci(n - 2) \n",
    "n = int(input(\"Enter the term position (n): \"))\n",
    "result = fibonacci(n)\n",
    "print(f\"The {n}th term of the Fibonacci Series is: {result}\")"
   ]
  },
  {
   "cell_type": "markdown",
   "metadata": {},
   "source": [
    "### 09) Write a function to get the name of the student based on the given rollno.\n",
    "#### Example: Given dict1 = {101:'Ajay', 102:'Rahul', 103:'Jay', 104:'Pooja'} find name of student whose rollno = 103"
   ]
  },
  {
   "cell_type": "code",
   "execution_count": 24,
   "metadata": {},
   "outputs": [
    {
     "name": "stdin",
     "output_type": "stream",
     "text": [
      "Enter the roll number:  102\n"
     ]
    },
    {
     "name": "stdout",
     "output_type": "stream",
     "text": [
      "The name of the student with roll number 102 is: Rahul\n"
     ]
    }
   ],
   "source": [
    "def get_student_name(rollno, student_dict):\n",
    "    return student_dict.get(rollno, \"Roll number not found\")\n",
    "dict1 = {101: 'Ajay', 102: 'Rahul', 103: 'Jay', 104: 'Pooja'}\n",
    "rollno = int(input(\"Enter the roll number: \"))\n",
    "name = get_student_name(rollno, dict1)\n",
    "print(f\"The name of the student with roll number {rollno} is: {name}\")"
   ]
  },
  {
   "cell_type": "markdown",
   "metadata": {},
   "source": [
    "### 10) Write a function to get the sum of the scores ending with zero.\n",
    "#### Example : scores = [200, 456, 300, 100, 234, 678] \n",
    "#### Ans = 200 + 300 + 100 = 600"
   ]
  },
  {
   "cell_type": "code",
   "execution_count": 25,
   "metadata": {},
   "outputs": [
    {
     "name": "stdout",
     "output_type": "stream",
     "text": [
      "The sum of scores ending with zero is: 600\n"
     ]
    }
   ],
   "source": [
    "def sum_of_scores_ending_with_zero(scores):\n",
    "    return sum(score for score in scores if score % 10 == 0)\n",
    "scores = [200, 456, 300, 100, 234, 678]\n",
    "result = sum_of_scores_ending_with_zero(scores)\n",
    "print(f\"The sum of scores ending with zero is: {result}\")"
   ]
  },
  {
   "cell_type": "markdown",
   "metadata": {},
   "source": [
    "### 11) Write a function to invert a given Dictionary.\n",
    "#### hint: keys to values & values to keys\n",
    "#### Before : {'a': 10, 'b':20, 'c':30, 'd':40}\n",
    "#### After : {10:'a', 20:'b', 30:'c', 40:'d'}"
   ]
  },
  {
   "cell_type": "code",
   "execution_count": 26,
   "metadata": {},
   "outputs": [
    {
     "name": "stdout",
     "output_type": "stream",
     "text": [
      "Original Dictionary: {'a': 10, 'b': 20, 'c': 30, 'd': 40}\n",
      "Inverted Dictionary: {10: 'a', 20: 'b', 30: 'c', 40: 'd'}\n"
     ]
    }
   ],
   "source": [
    "def invert_dictionary(original_dict):\n",
    "    return {value: key for key, value in original_dict.items()}\n",
    "original_dict = {'a': 10, 'b': 20, 'c': 30, 'd': 40}\n",
    "inverted_dict = invert_dictionary(original_dict)\n",
    "print(\"Original Dictionary:\", original_dict)\n",
    "print(\"Inverted Dictionary:\", inverted_dict)"
   ]
  },
  {
   "cell_type": "markdown",
   "metadata": {},
   "source": [
    "### 12) Write a function to check whether the given string is Pangram or not.\n",
    "#### hint: Pangram is a string containing all the characters a-z atlest once.\n",
    "#### \"the quick brown fox jumps over the lazy dog\" is a Pangram string."
   ]
  },
  {
   "cell_type": "code",
   "execution_count": 30,
   "metadata": {},
   "outputs": [
    {
     "name": "stdin",
     "output_type": "stream",
     "text": [
      "Enter a string:  abcdefghijklmnopqrstuvwxyz\n"
     ]
    },
    {
     "name": "stdout",
     "output_type": "stream",
     "text": [
      "The string is a pangram.\n"
     ]
    }
   ],
   "source": [
    "def is_pangram(s):\n",
    "    s = s.lower()\n",
    "    alphabet_set = set(\"abcdefghijklmnopqrstuvwxyz\")\n",
    "    return alphabet_set.issubset(set(s))\n",
    "input_string = input(\"Enter a string: \")\n",
    "if is_pangram(input_string):\n",
    "    print(\"The string is a pangram.\")\n",
    "else:\n",
    "    print(\"The string is not a pangram.\")"
   ]
  },
  {
   "cell_type": "markdown",
   "metadata": {},
   "source": [
    "### 13) Write a function that returns the number of uppercase and lowercase letters in the given string. \n",
    "#### example : Input : s1 = AbcDEfgh ,Ouptput : no_upper = 3, no_lower = 5"
   ]
  },
  {
   "cell_type": "code",
   "execution_count": 32,
   "metadata": {},
   "outputs": [
    {
     "name": "stdin",
     "output_type": "stream",
     "text": [
      "Enter a String: abccxsGSGABA\n"
     ]
    },
    {
     "name": "stdout",
     "output_type": "stream",
     "text": [
      "Number of uppercase letters: 6\n",
      "Number of lowercase letters: 6\n"
     ]
    }
   ],
   "source": [
    "def count_upper_lower(s):\n",
    "    no_upper = 0\n",
    "    no_lower = 0\n",
    "    for char in s:\n",
    "        if char.isupper():\n",
    "            no_upper += 1\n",
    "        elif char.islower():\n",
    "            no_lower += 1\n",
    "    return no_upper, no_lower\n",
    "s1 = input('Enter a String:')\n",
    "no_upper, no_lower = count_upper_lower(s1)\n",
    "print(f\"Number of uppercase letters: {no_upper}\")\n",
    "print(f\"Number of lowercase letters: {no_lower}\")"
   ]
  },
  {
   "cell_type": "markdown",
   "metadata": {},
   "source": [
    "### 14) Write a lambda function to get smallest number from the given two numbers."
   ]
  },
  {
   "cell_type": "code",
   "execution_count": 33,
   "metadata": {},
   "outputs": [
    {
     "name": "stdin",
     "output_type": "stream",
     "text": [
      "Enter the first number:  25\n",
      "Enter the second number:  58\n"
     ]
    },
    {
     "name": "stdout",
     "output_type": "stream",
     "text": [
      "The smallest number is: 25.0\n"
     ]
    }
   ],
   "source": [
    "smallest = lambda x, y: x if x < y else y\n",
    "num1 = float(input(\"Enter the first number: \"))\n",
    "num2 = float(input(\"Enter the second number: \"))\n",
    "result = smallest(num1, num2)\n",
    "print(f\"The smallest number is: {result}\")"
   ]
  },
  {
   "cell_type": "markdown",
   "metadata": {},
   "source": [
    "### 15) For the given list of names of students, extract the names having more that 7 characters. Use filter()."
   ]
  },
  {
   "cell_type": "code",
   "execution_count": 34,
   "metadata": {},
   "outputs": [
    {
     "name": "stdout",
     "output_type": "stream",
     "text": [
      "Names with more than 7 characters: ['Alexander', 'Catherine', 'Elizabeth']\n"
     ]
    }
   ],
   "source": [
    "students = [\"Alice\", \"Bob\", \"Alexander\", \"Catherine\", \"David\", \"Elizabeth\"]\n",
    "def has_more_than_7_chars(name):\n",
    "    return len(name) > 7\n",
    "filtered_names = list(filter(has_more_than_7_chars, students))\n",
    "print(\"Names with more than 7 characters:\", filtered_names)"
   ]
  },
  {
   "cell_type": "markdown",
   "metadata": {},
   "source": [
    "### 16) For the given list of names of students, convert the first letter of all the names into uppercase. use map()."
   ]
  },
  {
   "cell_type": "code",
   "execution_count": 35,
   "metadata": {},
   "outputs": [
    {
     "name": "stdout",
     "output_type": "stream",
     "text": [
      "Names with first letter capitalized: ['Alice', 'Bob', 'Alexander', 'Catherine', 'David', 'Elizabeth']\n"
     ]
    }
   ],
   "source": [
    "students = [\"alice\", \"bob\", \"alexander\", \"catherine\", \"david\", \"elizabeth\"]\n",
    "def capitalize_first_letter(name):\n",
    "    return name.capitalize()\n",
    "capitalized_names = list(map(capitalize_first_letter, students))\n",
    "print(\"Names with first letter capitalized:\", capitalized_names)"
   ]
  },
  {
   "cell_type": "markdown",
   "metadata": {},
   "source": [
    "### 17) Write udfs to call the functions with following types of arguments:\n",
    "1. Positional Arguments\n",
    "2. Keyword Arguments\n",
    "3. Default Arguments\n",
    "4. Variable Legngth Positional(*args) & variable length Keyword Arguments (**kwargs)\n",
    "5. Keyword-Only & Positional Only Arguments"
   ]
  },
  {
   "cell_type": "code",
   "execution_count": 36,
   "metadata": {},
   "outputs": [
    {
     "name": "stdout",
     "output_type": "stream",
     "text": [
      "Positional Arguments Result: 30\n",
      "Keyword Arguments Result: -10\n",
      "Default Arguments Result: 50\n",
      "Variable-Length Positional Arguments Result: 15\n",
      "Variable-Length Keyword Arguments Result: {'name': 'Alice', 'age': 25, 'city': 'New York'}\n",
      "Keyword-Only Arguments Result: 30\n",
      "Positional-Only Arguments Result: 200\n"
     ]
    }
   ],
   "source": [
    "# Positional Arguments\n",
    "def positional_args(a, b):\n",
    "    return a + b\n",
    "\n",
    "# Keyword Arguments\n",
    "def keyword_args(a, b):\n",
    "    return a - b\n",
    "\n",
    "# Default Arguments\n",
    "def default_args(a, b=5):\n",
    "    return a * b\n",
    "\n",
    "# Variable-Length Positional Arguments\n",
    "def variable_length_positional(*args):\n",
    "    return sum(args)\n",
    "\n",
    "# Variable-Length Keyword Arguments\n",
    "def variable_length_keyword(**kwargs):\n",
    "    return kwargs\n",
    "\n",
    "# Keyword-Only Arguments\n",
    "def keyword_only_args(*, a, b):\n",
    "    return a + b\n",
    "\n",
    "# Positional-Only Arguments\n",
    "def positional_only_args(a, b, /):\n",
    "    return a * b\n",
    "\n",
    "print(\"Positional Arguments Result:\", positional_args(10, 20))\n",
    "print(\"Keyword Arguments Result:\", keyword_args(b=20, a=10))\n",
    "print(\"Default Arguments Result:\", default_args(10))\n",
    "print(\"Variable-Length Positional Arguments Result:\", variable_length_positional(1, 2, 3, 4, 5))\n",
    "print(\"Variable-Length Keyword Arguments Result:\", variable_length_keyword(name=\"Alice\", age=25, city=\"New York\"))\n",
    "print(\"Keyword-Only Arguments Result:\", keyword_only_args(a=10, b=20))\n",
    "print(\"Positional-Only Arguments Result:\", positional_only_args(10, 20))"
   ]
  }
 ],
 "metadata": {
  "kernelspec": {
   "display_name": "Python 3 (ipykernel)",
   "language": "python",
   "name": "python3"
  },
  "language_info": {
   "codemirror_mode": {
    "name": "ipython",
    "version": 3
   },
   "file_extension": ".py",
   "mimetype": "text/x-python",
   "name": "python",
   "nbconvert_exporter": "python",
   "pygments_lexer": "ipython3",
   "version": "3.12.7"
  }
 },
 "nbformat": 4,
 "nbformat_minor": 4
}
