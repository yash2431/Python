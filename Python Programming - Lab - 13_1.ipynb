{
 "cells": [
  {
   "cell_type": "markdown",
   "metadata": {},
   "source": [
    "<a href='https://www.darshan.ac.in/'> <img src='https://www.darshan.ac.in/Content/media/DU_Logo.svg' width=\"250\" height=\"300\"/></a>\n",
    "<pre>\n",
    "<center><b><h1>Python Programming - 2301CS404</b></center>\n",
    "<center><b><h1>Lab - 13</b>\n",
    "    <h1>Yash Pipalava (23010101208)\n",
    "</center>    \n",
    "<pre>"
   ]
  },
  {
   "cell_type": "markdown",
   "metadata": {},
   "source": [
    "# OOP"
   ]
  },
  {
   "cell_type": "markdown",
   "metadata": {},
   "source": [
    "### 01) Write a Program to create a class by name Students, and initialize attributes like name, age, and grade while creating an object."
   ]
  },
  {
   "cell_type": "code",
   "execution_count": 5,
   "metadata": {},
   "outputs": [
    {
     "name": "stdout",
     "output_type": "stream",
     "text": [
      "Kavyam\n",
      "19\n",
      "A\n"
     ]
    }
   ],
   "source": [
    "class Student:\n",
    "    def __init__(self,Name,Age,Grade):\n",
    "        self.Name=Name\n",
    "        self.Age=Age\n",
    "        self.Grade=Grade\n",
    "        \n",
    "ob=Student(\"Kavyam\",19,\"A\")\n",
    "print(ob.Name)\n",
    "print(ob.Age)\n",
    "print(ob.Grade)\n"
   ]
  },
  {
   "cell_type": "markdown",
   "metadata": {},
   "source": [
    "### 02) Create a class named Bank_Account with Account_No, User_Name, Email,Account_Type and Account_Balance data members. Also create a method GetAccountDetails() and DisplayAccountDetails(). Create main method to demonstrate the Bank_Account class."
   ]
  },
  {
   "cell_type": "code",
   "execution_count": 1,
   "metadata": {},
   "outputs": [
    {
     "name": "stdin",
     "output_type": "stream",
     "text": [
      "Enter your Account_No 885577\n",
      "Enter your User_Name Kavyam\n",
      "Enter your Email k@gmail.com\n",
      "Enter you Account_Type Saving\n",
      "Enter your Account_Balance 100000\n"
     ]
    },
    {
     "name": "stdout",
     "output_type": "stream",
     "text": [
      "Account_No : 885577\n",
      "User_Name : Kavyam\n",
      " Email : k@gmail.com\n",
      "Account_Type : Saving\n",
      "Account_Balance : 100000\n"
     ]
    }
   ],
   "source": [
    "class Bank_Account:\n",
    "    \n",
    "\n",
    "    def GetAccountDetails(self):\n",
    "        self.Account_No=int(input(\"Enter your Account_No\"))\n",
    "        self.User_Name=input(\"Enter your User_Name\")\n",
    "        self.Email=input(\"Enter your Email\")\n",
    "        self.Account_Type=input(\"Enter you Account_Type\")\n",
    "        self.Account_Balance=int(input(\"Enter your Account_Balance\"))\n",
    "\n",
    "    def DisplayAccountDetails(self):\n",
    "        print(f'Account_No : {self.Account_No}')\n",
    "        print(f'User_Name : {self.User_Name}')\n",
    "        print(f'Email : {self.Email}')\n",
    "        print(f'Account_Type : {self.Account_Type}')\n",
    "        print(f'Account_Balance : {self.Account_Balance}')\n",
    "\n",
    "obj=Bank_Account()\n",
    "obj.GetAccountDetails()\n",
    "obj.DisplayAccountDetails()"
   ]
  },
  {
   "cell_type": "markdown",
   "metadata": {},
   "source": [
    "### 03) WAP to create Circle class with area and perimeter function to find area and perimeter of circle."
   ]
  },
  {
   "cell_type": "code",
   "execution_count": 4,
   "metadata": {},
   "outputs": [
    {
     "name": "stdout",
     "output_type": "stream",
     "text": [
      "Area : 1256.6370614359173\n",
      "Perimeter : 25.132741228718345\n"
     ]
    }
   ],
   "source": [
    "import math\n",
    "class Circle:\n",
    "    def Area(self,r):\n",
    "       print(f'Area : {math.pi*r*r}')\n",
    "\n",
    "    def Perimeter(self,r):\n",
    "     print(f'Perimeter : {2*math.pi*r}')\n",
    "\n",
    "obj=Circle()\n",
    "obj.Area(20)\n",
    "obj.Perimeter(4)"
   ]
  },
  {
   "cell_type": "markdown",
   "metadata": {},
   "source": [
    "### 04) Create a class for employees that includes attributes such as name, age, salary, and methods to update and display employee information."
   ]
  },
  {
   "cell_type": "code",
   "execution_count": 13,
   "metadata": {},
   "outputs": [
    {
     "name": "stdout",
     "output_type": "stream",
     "text": [
      "The information of Employee : \n",
      "Name : Kavam\n",
      "Age : 19\n",
      "Salary : 100000\n",
      "The information of Employee : \n",
      "Name : Kavyam Joshi\n",
      "Age : 19\n",
      "Salary : 100000\n"
     ]
    }
   ],
   "source": [
    "class Employee:\n",
    "    def __init__(self,Name,Age,Salary):\n",
    "        self.Name=Name\n",
    "        self.Age=Age\n",
    "        self.Salary=Salary\n",
    "\n",
    "    def updateEmployee(self,Name,Age,Salary):\n",
    "        if Name:\n",
    "            self.Name=Name\n",
    "        if Age:\n",
    "            self.Age=Age\n",
    "        if Salary:\n",
    "            self.Salary=Salary\n",
    "\n",
    "    def displayDetails(self):\n",
    "        print(\"The information of Employee : \")\n",
    "        print(f'Name : {self.Name}')\n",
    "        print(f'Age : {self.Age}')\n",
    "        print(f'Salary : {self.Salary}')\n",
    "\n",
    "obj=Employee(\"Kavam\",19,100000)\n",
    "obj.displayDetails()\n",
    "obj.updateEmployee(\"Kavyam Joshi\",19,100000)\n",
    "obj.displayDetails()\n"
   ]
  },
  {
   "cell_type": "markdown",
   "metadata": {},
   "source": [
    "### 05) Create a bank account class with methods to deposit, withdraw, and check balance."
   ]
  },
  {
   "cell_type": "code",
   "execution_count": 15,
   "metadata": {},
   "outputs": [
    {
     "name": "stdout",
     "output_type": "stream",
     "text": [
      "Deposit Rs.5000. Current Balance : Rs.1005000\n",
      "Withdraw Rs.2000.current balace : Rs.1003000\n",
      "Balance : Rs.1003000\n"
     ]
    }
   ],
   "source": [
    "class Bank_Account:\n",
    "    def __init__(self,acc_no,balance=0):\n",
    "        self.acc_no=acc_no\n",
    "        self.balance=balance\n",
    "\n",
    "    def deposit(self,amount):\n",
    "        if amount>0:\n",
    "            self.balance+=amount\n",
    "            print(f'Deposit Rs.{amount}. Current Balance : Rs.{self.balance}')\n",
    "        else:\n",
    "            print(\"Deposit amount must be positive\")\n",
    "    def withdraw(self,amount):\n",
    "        if amount>=0:\n",
    "            if amount<=self.balance:\n",
    "                self.balance-=amount\n",
    "                print(f'Withdraw Rs.{amount}.current balace : Rs.{self.balance}')\n",
    "            else:\n",
    "                print(\"Insufficient fund\")\n",
    "        else:\n",
    "            print(\"withdraw amount must be positive\")\n",
    "\n",
    "    def check_balance(self):\n",
    "        print(f'Balance : Rs.{self.balance}')\n",
    "\n",
    "obj=Bank_Account(114400,1000000)\n",
    "obj.deposit(5000)\n",
    "obj.withdraw(2000)\n",
    "obj.check_balance()\n"
   ]
  },
  {
   "cell_type": "markdown",
   "metadata": {},
   "source": [
    "### 06) Create a class for managing inventory that includes attributes such as item name, price, quantity, and methods to add, remove, and update items."
   ]
  },
  {
   "cell_type": "code",
   "execution_count": 5,
   "metadata": {},
   "outputs": [
    {
     "name": "stdout",
     "output_type": "stream",
     "text": [
      "Added 10 Laptop(s) to inventory.\n",
      "Added 15 Phone(s) to inventory.\n",
      "Inventory Details:\n",
      "Laptop: Price - $1200, Quantity - 10\n",
      "Phone: Price - $800, Quantity - 15\n",
      "Removed 5 Laptop(s) from inventory.\n",
      "Updated price of Phone to $850.\n",
      "Inventory Details:\n",
      "Laptop: Price - $1200, Quantity - 5\n",
      "Phone: Price - $850, Quantity - 15\n",
      "Not enough Laptop in inventory to remove.\n",
      "Tablet not found in inventory.\n"
     ]
    }
   ],
   "source": [
    "class Inventory:\n",
    "    def __init__(self):\n",
    "        self.items = {}\n",
    "\n",
    "    def add_item(self, item_name, price, quantity):\n",
    "        if item_name in self.items:\n",
    "            self.items[item_name]['quantity'] += quantity\n",
    "        else:\n",
    "            self.items[item_name] = {'price': price, 'quantity': quantity}\n",
    "        print(f\"Added {quantity} {item_name}(s) to inventory.\")\n",
    "\n",
    "    def remove_item(self, item_name, quantity):\n",
    "        if item_name in self.items:\n",
    "            if self.items[item_name]['quantity'] >= quantity:\n",
    "                self.items[item_name]['quantity'] -= quantity\n",
    "                print(f\"Removed {quantity} {item_name}(s) from inventory.\")\n",
    "            else:\n",
    "                print(f\"Not enough {item_name} in inventory to remove.\")\n",
    "        else:\n",
    "            print(f\"{item_name} not found in inventory.\")\n",
    "\n",
    "    def update_price(self, item_name, new_price):\n",
    "        if item_name in self.items:\n",
    "            self.items[item_name]['price'] = new_price\n",
    "            print(f\"Updated price of {item_name} to ${new_price}.\")\n",
    "        else:\n",
    "            print(f\"{item_name} not found in inventory.\")\n",
    "\n",
    "    def display_inventory(self):\n",
    "        if not self.items:\n",
    "            print(\"Inventory is empty.\")\n",
    "        else:\n",
    "            print(\"Inventory Details:\")\n",
    "            for item_name, details in self.items.items():\n",
    "                print(f\"{item_name}: Price - ${details['price']}, Quantity - {details['quantity']}\")\n",
    "\n",
    "inventory = Inventory()\n",
    "inventory.add_item(\"Laptop\", 1200, 10)\n",
    "inventory.add_item(\"Phone\", 800, 15)\n",
    "inventory.display_inventory()\n",
    "inventory.remove_item(\"Laptop\", 5)\n",
    "inventory.update_price(\"Phone\", 850)\n",
    "inventory.display_inventory()\n",
    "inventory.remove_item(\"Laptop\", 6)\n",
    "inventory.update_price(\"Tablet\", 300)\n"
   ]
  },
  {
   "cell_type": "markdown",
   "metadata": {},
   "source": [
    "### 07) Create a Class with instance attributes of your choice."
   ]
  },
  {
   "cell_type": "code",
   "execution_count": 2,
   "metadata": {},
   "outputs": [
    {
     "name": "stdout",
     "output_type": "stream",
     "text": [
      "Car Information:\n",
      "Make: Toyota\n",
      "Model: Corolla\n",
      "Year: 2021\n",
      "Color: Blue\n",
      "Car Information:\n",
      "Make: Honda\n",
      "Model: Civic\n",
      "Year: 2020\n",
      "Color: Red\n"
     ]
    }
   ],
   "source": [
    "class Car:\n",
    "    def __init__(self, make, model, year, color):\n",
    "        self.make = make\n",
    "        self.model = model\n",
    "        self.year = year\n",
    "        self.color = color\n",
    "\n",
    "    def display_car_info(self):\n",
    "        print(f\"Car Information:\")\n",
    "        print(f\"Make: {self.make}\")\n",
    "        print(f\"Model: {self.model}\")\n",
    "        print(f\"Year: {self.year}\")\n",
    "        print(f\"Color: {self.color}\")\n",
    "\n",
    "car1 = Car(\"Toyota\", \"Corolla\", 2021, \"Blue\")\n",
    "car1.display_car_info()\n",
    "car2 = Car(\"Honda\", \"Civic\", 2020, \"Red\")\n",
    "car2.display_car_info()"
   ]
  },
  {
   "cell_type": "markdown",
   "metadata": {},
   "source": [
    "### 08) Create one class student_kit\n",
    "#### Within the student_kit class create one class attribute principal name ( Mr ABC )\n",
    "#### Create one attendance method and take input as number of days.\n",
    "#### While creating student take input their name .\n",
    "#### Create one certificate for each student by taking input of number of days present in class."
   ]
  },
  {
   "cell_type": "code",
   "execution_count": 7,
   "metadata": {},
   "outputs": [
    {
     "name": "stdin",
     "output_type": "stream",
     "text": [
      "Enter the student's name:  Kavyam\n",
      "Enter the number of days present in class:  100\n"
     ]
    },
    {
     "name": "stdout",
     "output_type": "stream",
     "text": [
      "Attendance recorded: 100 days\n",
      "Certificate of Attendance\n",
      "\n",
      "Principal: Mr ABC\n",
      "Student: Kavyam\n",
      "Days Present: 100\n",
      "Status: Passed (Attendance is sufficient)\n"
     ]
    }
   ],
   "source": [
    "class StudentKit:\n",
    "    principal = \"Mr ABC\"\n",
    "    \n",
    "    def __init__(self, student_name):\n",
    "        self.student_name = student_name\n",
    "        self.attendance = 0\n",
    "\n",
    "    def record_attendance(self, days_present):\n",
    "        self.attendance = days_present\n",
    "        print(f\"Attendance recorded: {self.attendance} days\")\n",
    "\n",
    "    def generate_certificate(self):\n",
    "        if self.attendance >= 75:\n",
    "            print(f\"Certificate of Attendance\\n\")\n",
    "            print(f\"Principal: {StudentKit.principal}\")\n",
    "            print(f\"Student: {self.student_name}\")\n",
    "            print(f\"Days Present: {self.attendance}\")\n",
    "            print(f\"Status: Passed (Attendance is sufficient)\")\n",
    "        else:\n",
    "            print(f\"Certificate of Attendance\\n\")\n",
    "            print(f\"Principal: {StudentKit.principal}\")\n",
    "            print(f\"Student: {self.student_name}\")\n",
    "            print(f\"Days Present: {self.attendance}\")\n",
    "            print(f\"Status: Failed (Attendance is insufficient)\")\n",
    "\n",
    "student_name = input(\"Enter the student's name: \")\n",
    "student = StudentKit(student_name)\n",
    "days_present = int(input(\"Enter the number of days present in class: \"))\n",
    "student.record_attendance(days_present)\n",
    "student.generate_certificate()"
   ]
  },
  {
   "cell_type": "markdown",
   "metadata": {},
   "source": [
    "### 09) Define Time class with hour and minute as data member. Also define addition method to add two time objects."
   ]
  },
  {
   "cell_type": "code",
   "execution_count": 6,
   "metadata": {},
   "outputs": [
    {
     "name": "stdout",
     "output_type": "stream",
     "text": [
      "Time 1:\n",
      "2 hour(s) and 45 minute(s)\n",
      "Time 2:\n",
      "3 hour(s) and 30 minute(s)\n",
      "Total Time after adding:\n",
      "6 hour(s) and 15 minute(s)\n"
     ]
    }
   ],
   "source": [
    "class Time:\n",
    "    def __init__(self, hour=0, minute=0):\n",
    "        self.hour = hour\n",
    "        self.minute = minute\n",
    "\n",
    "    def add_time(self, other):\n",
    "        total_minutes = (self.hour * 60 + self.minute) + (other.hour * 60 + other.minute)\n",
    "        total_hour = total_minutes // 60\n",
    "        total_minute = total_minutes % 60\n",
    "        return Time(total_hour, total_minute)\n",
    "    \n",
    "    def display_time(self):\n",
    "        print(f\"{self.hour} hour(s) and {self.minute} minute(s)\")\n",
    "\n",
    "time1 = Time(2, 45)\n",
    "time2 = Time(3, 30)\n",
    "total_time = time1.add_time(time2)\n",
    "print(\"Time 1:\")\n",
    "time1.display_time()\n",
    "print(\"Time 2:\")\n",
    "time2.display_time()\n",
    "print(\"Total Time after adding:\")\n",
    "total_time.display_time()"
   ]
  }
 ],
 "metadata": {
  "kernelspec": {
   "display_name": "Python 3 (ipykernel)",
   "language": "python",
   "name": "python3"
  },
  "language_info": {
   "codemirror_mode": {
    "name": "ipython",
    "version": 3
   },
   "file_extension": ".py",
   "mimetype": "text/x-python",
   "name": "python",
   "nbconvert_exporter": "python",
   "pygments_lexer": "ipython3",
   "version": "3.12.7"
  }
 },
 "nbformat": 4,
 "nbformat_minor": 4
}
