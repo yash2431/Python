{
 "cells": [
  {
   "cell_type": "markdown",
   "metadata": {},
   "source": [
    "\n",
    "<a href='https://www.darshan.ac.in/'> <img src='https://www.darshan.ac.in/Content/media/DU_Logo.svg' width=\"250\" height=\"300\"/></a>\n",
    "<pre>\n",
    "<center><b><h1>Python Programming - 2301CS404</b></center>\n",
    "<center><b><h1>Lab - 5</b></center>\n",
    "<center><b><h1>Yash Pipalava (23010101208)</b></center>\n",
    "<pre>"
   ]
  },
  {
   "cell_type": "markdown",
   "metadata": {},
   "source": [
    "# List"
   ]
  },
  {
   "cell_type": "markdown",
   "metadata": {},
   "source": [
    "### 01) WAP to find sum of all the elements in a List."
   ]
  },
  {
   "cell_type": "code",
   "execution_count": 14,
   "metadata": {},
   "outputs": [
    {
     "name": "stdout",
     "output_type": "stream",
     "text": [
      "15\n"
     ]
    }
   ],
   "source": [
    "l1 = [1,2,3,4,5]\n",
    "sum = 0\n",
    "for i in l1:\n",
    "    sum+=i\n",
    "print(sum)"
   ]
  },
  {
   "cell_type": "markdown",
   "metadata": {},
   "source": [
    "### 02) WAP to find largest element in a List."
   ]
  },
  {
   "cell_type": "code",
   "execution_count": 21,
   "metadata": {},
   "outputs": [
    {
     "data": {
      "text/plain": [
       "87"
      ]
     },
     "execution_count": 21,
     "metadata": {},
     "output_type": "execute_result"
    }
   ],
   "source": [
    "l1 = [1,2,3,6,5,56,87]\n",
    "l1.sort(reverse = True)\n",
    "l1[0]"
   ]
  },
  {
   "cell_type": "markdown",
   "metadata": {},
   "source": [
    "### 03) WAP to find the length of a List."
   ]
  },
  {
   "cell_type": "code",
   "execution_count": 23,
   "metadata": {},
   "outputs": [
    {
     "data": {
      "text/plain": [
       "9"
      ]
     },
     "execution_count": 23,
     "metadata": {},
     "output_type": "execute_result"
    }
   ],
   "source": [
    "l1 = [1,2,2,3,3,3,4,4,9]\n",
    "len(l1)"
   ]
  },
  {
   "cell_type": "markdown",
   "metadata": {},
   "source": [
    "### 04) WAP to interchange first and last elements in a list."
   ]
  },
  {
   "cell_type": "code",
   "execution_count": 28,
   "metadata": {},
   "outputs": [
    {
     "name": "stdout",
     "output_type": "stream",
     "text": [
      "[4, 2, 32, 3, 43, 1]\n"
     ]
    }
   ],
   "source": [
    "l1 = [1,2,32,3,43,4]\n",
    "temp = l1[0]\n",
    "l1[0] = l1[5]\n",
    "l1[5] = temp\n",
    "print(l1)"
   ]
  },
  {
   "cell_type": "markdown",
   "metadata": {},
   "source": [
    " 05) WAP to split the List into two parts and append the first part to the end"
   ]
  },
  {
   "cell_type": "code",
   "execution_count": 29,
   "metadata": {},
   "outputs": [
    {
     "name": "stdout",
     "output_type": "stream",
     "text": [
      "[3, 3, 4, 4, 1, 2, 2, 6]\n"
     ]
    }
   ],
   "source": [
    "l1 = [1,2,2,6,3,3,4,4]\n",
    "l1 = l1[len(l1)//2:]+l1[:len(l1)//2]\n",
    "print(l1)"
   ]
  },
  {
   "cell_type": "markdown",
   "metadata": {},
   "source": [
    " 06) WAP to interchange the elements on two positions entered by a user."
   ]
  },
  {
   "cell_type": "code",
   "execution_count": 32,
   "metadata": {},
   "outputs": [
    {
     "name": "stdout",
     "output_type": "stream",
     "text": [
      "Enter a list:1235456\n",
      "give the positiion of first index:2\n",
      "give the positiion of second index:3\n",
      "['1', '2', '5', '3', '4', '5', '6']\n"
     ]
    }
   ],
   "source": [
    "l1 = list(input(\"Enter a list:\"))\n",
    "n1 = int(input(\"give the positiion of first index:\"))\n",
    "n2 = int(input(\"give the positiion of second index:\"))\n",
    "for i in l1:\n",
    "    temp = l1[n1]\n",
    "    l1[n1] = l1[n2]\n",
    "    l1[n2] = temp\n",
    "print(l1)"
   ]
  },
  {
   "cell_type": "markdown",
   "metadata": {},
   "source": [
    "### 07) WAP to reverse the list entered by user."
   ]
  },
  {
   "cell_type": "code",
   "execution_count": 34,
   "metadata": {},
   "outputs": [
    {
     "name": "stdout",
     "output_type": "stream",
     "text": [
      "Enter a list:1324443\n",
      "['3', '4', '4', '4', '2', '3', '1']\n"
     ]
    }
   ],
   "source": [
    "l1 = list(input(\"Enter a list:\"))\n",
    "l1.reverse()\n",
    "print(l1)"
   ]
  },
  {
   "cell_type": "markdown",
   "metadata": {},
   "source": [
    "### 08) WAP to print even numbers in a list."
   ]
  },
  {
   "cell_type": "code",
   "execution_count": 37,
   "metadata": {},
   "outputs": [
    {
     "name": "stdout",
     "output_type": "stream",
     "text": [
      "2\n",
      "6\n",
      "4\n",
      "4\n",
      "4\n"
     ]
    }
   ],
   "source": [
    "l1 = [1,2,3,3,6,4,4,5,4,5]\n",
    "for i in l1:\n",
    "    if i%2==0:\n",
    "        print(i)"
   ]
  },
  {
   "cell_type": "markdown",
   "metadata": {},
   "source": [
    "### 09) WAP to count unique items in a list."
   ]
  },
  {
   "cell_type": "code",
   "execution_count": 1,
   "metadata": {},
   "outputs": [
    {
     "name": "stdout",
     "output_type": "stream",
     "text": [
      "Count of unique items: 5\n"
     ]
    }
   ],
   "source": [
    "def count_unique_items(input_list):\n",
    "    unique_items = set(input_list)\n",
    "    return len(unique_items)\n",
    "input_list = [1, 2, 2, 3, 4, 4, 5]\n",
    "print(\"Count of unique items:\", count_unique_items(input_list))"
   ]
  },
  {
   "cell_type": "markdown",
   "metadata": {},
   "source": [
    "### 10) WAP to copy a list."
   ]
  },
  {
   "cell_type": "code",
   "execution_count": null,
   "metadata": {},
   "outputs": [],
   "source": [
    "l1 = [1,2,2,3,4,35]\n",
    "l2 = l1.copy()\n",
    "print(l2)"
   ]
  },
  {
   "cell_type": "markdown",
   "metadata": {},
   "source": [
    "### 11) WAP to print all odd numbers in a given range."
   ]
  },
  {
   "cell_type": "code",
   "execution_count": 1,
   "metadata": {},
   "outputs": [
    {
     "name": "stdin",
     "output_type": "stream",
     "text": [
      "Enter the start of the range:  2\n",
      "Enter the end of the range:  8\n"
     ]
    },
    {
     "name": "stdout",
     "output_type": "stream",
     "text": [
      "Odd numbers between 2 and 8 are: [3, 5, 7]\n"
     ]
    }
   ],
   "source": [
    "start = int(input(\"Enter the start of the range: \"))\n",
    "end = int(input(\"Enter the end of the range: \"))\n",
    "odd_numbers = [num for num in range(start, end + 1) if num % 2 != 0]\n",
    "print(f\"Odd numbers between {start} and {end} are: {odd_numbers}\")"
   ]
  },
  {
   "cell_type": "markdown",
   "metadata": {},
   "source": [
    "### 12) WAP to count occurrences of an element in a list."
   ]
  },
  {
   "cell_type": "code",
   "execution_count": 3,
   "metadata": {},
   "outputs": [
    {
     "name": "stdin",
     "output_type": "stream",
     "text": [
      "Enter elements of the list separated by spaces:  2 5 8 8  4 2 28 8 \n",
      "Enter the element to count:  8\n"
     ]
    },
    {
     "name": "stdout",
     "output_type": "stream",
     "text": [
      "The element '8' occurs 3 times in the list.\n"
     ]
    }
   ],
   "source": [
    "elements = input(\"Enter elements of the list separated by spaces: \").split()\n",
    "element = input(\"Enter the element to count: \")\n",
    "count = elements.count(element)\n",
    "print(f\"The element '{element}' occurs {count} times in the list.\")"
   ]
  },
  {
   "cell_type": "markdown",
   "metadata": {},
   "source": [
    "### 13) WAP to find second largest number in a list."
   ]
  },
  {
   "cell_type": "code",
   "execution_count": 4,
   "metadata": {},
   "outputs": [
    {
     "name": "stdin",
     "output_type": "stream",
     "text": [
      "Enter numbers separated by spaces:  2 5 5  2  5 2 \n"
     ]
    },
    {
     "name": "stdout",
     "output_type": "stream",
     "text": [
      "The second largest number is: 2\n"
     ]
    }
   ],
   "source": [
    "numbers = list(map(int, input(\"Enter numbers separated by spaces: \").split()))\n",
    "if len(numbers) < 2:\n",
    "    print(\"The list must contain at least two numbers.\")\n",
    "else:\n",
    "    unique_numbers = list(set(numbers))\n",
    "    unique_numbers.sort()\n",
    "    if len(unique_numbers) >= 2:\n",
    "        second_largest = unique_numbers[-2]\n",
    "        print(f\"The second largest number is: {second_largest}\")\n",
    "    else:\n",
    "        print(\"There is no second largest number (all elements are the same).\")"
   ]
  },
  {
   "cell_type": "markdown",
   "metadata": {},
   "source": [
    "### 14) WAP to extract elements with frequency greater than K."
   ]
  },
  {
   "cell_type": "code",
   "execution_count": 6,
   "metadata": {},
   "outputs": [
    {
     "name": "stdin",
     "output_type": "stream",
     "text": [
      "Enter elements of the list separated by spaces:  2 2 5  2 2 5 5 3   5\n",
      "Enter the value of K:  1\n"
     ]
    },
    {
     "name": "stdout",
     "output_type": "stream",
     "text": [
      "Elements with frequency greater than 1: ['2', '5']\n"
     ]
    }
   ],
   "source": [
    "elements = input(\"Enter elements of the list separated by spaces: \").split()\n",
    "K = int(input(\"Enter the value of K: \"))\n",
    "frequency = {}\n",
    "for element in elements:\n",
    "    if element in frequency:\n",
    "        frequency[element] += 1\n",
    "    else:\n",
    "        frequency[element] = 1\n",
    "result = [element for element, count in frequency.items() if count > K]\n",
    "print(f\"Elements with frequency greater than {K}: {result}\")"
   ]
  },
  {
   "cell_type": "markdown",
   "metadata": {},
   "source": [
    "### 15) WAP to create a list of squared numbers from 0 to 9 with and without using List Comprehension."
   ]
  },
  {
   "cell_type": "code",
   "execution_count": 7,
   "metadata": {},
   "outputs": [
    {
     "name": "stdout",
     "output_type": "stream",
     "text": [
      "Squared numbers (without list comprehension): [0, 1, 4, 9, 16, 25, 36, 49, 64, 81]\n"
     ]
    }
   ],
   "source": [
    "squared_numbers = []\n",
    "for num in range(10):\n",
    "    squared_numbers.append(num ** 2)\n",
    "print(\"Squared numbers (without list comprehension):\", squared_numbers)"
   ]
  },
  {
   "cell_type": "markdown",
   "metadata": {},
   "source": [
    "### 16) WAP to create a new list (fruit whose name starts with 'b') from the list of fruits given by user."
   ]
  },
  {
   "cell_type": "code",
   "execution_count": 8,
   "metadata": {},
   "outputs": [
    {
     "name": "stdin",
     "output_type": "stream",
     "text": [
      "Enter fruits separated by spaces:  apple banana mango orange\n"
     ]
    },
    {
     "name": "stdout",
     "output_type": "stream",
     "text": [
      "Fruits that start with 'b': ['banana']\n"
     ]
    }
   ],
   "source": [
    "fruits = input(\"Enter fruits separated by spaces: \").split()\n",
    "fruits_with_b = [fruit for fruit in fruits if fruit.lower().startswith('b')]\n",
    "print(\"Fruits that start with 'b':\", fruits_with_b)"
   ]
  },
  {
   "cell_type": "markdown",
   "metadata": {},
   "source": [
    "### 17) WAP to create a list of common elements from given two lists."
   ]
  },
  {
   "cell_type": "code",
   "execution_count": 9,
   "metadata": {},
   "outputs": [
    {
     "name": "stdin",
     "output_type": "stream",
     "text": [
      "Enter elements of the first list separated by spaces:  2 2 5  5 5 5 \n",
      "Enter elements of the second list separated by spaces:  2 5 5 5 22 52 \n"
     ]
    },
    {
     "name": "stdout",
     "output_type": "stream",
     "text": [
      "Common elements in both lists: ['2', '5']\n"
     ]
    }
   ],
   "source": [
    "list1 = input(\"Enter elements of the first list separated by spaces: \").split()\n",
    "list2 = input(\"Enter elements of the second list separated by spaces: \").split()\n",
    "common_elements = list(set(list1) & set(list2))\n",
    "print(\"Common elements in both lists:\", common_elements)"
   ]
  }
 ],
 "metadata": {
  "kernelspec": {
   "display_name": "Python 3 (ipykernel)",
   "language": "python",
   "name": "python3"
  },
  "language_info": {
   "codemirror_mode": {
    "name": "ipython",
    "version": 3
   },
   "file_extension": ".py",
   "mimetype": "text/x-python",
   "name": "python",
   "nbconvert_exporter": "python",
   "pygments_lexer": "ipython3",
   "version": "3.12.7"
  }
 },
 "nbformat": 4,
 "nbformat_minor": 4
}
