{
 "cells": [
  {
   "cell_type": "markdown",
   "metadata": {},
   "source": [
    "<a href='https://www.darshan.ac.in/'> <img src='https://www.darshan.ac.in/Content/media/DU_Logo.svg' width=\"250\" height=\"300\"/></a>\n",
    "<pre>\n",
    "<center><b><h1>Python Programming - 2301CS404</b></center>\n",
    "<center><b><h1>Lab - 6</b></center>    \n",
    "<center><b><h1>Yash Pipalava (23010101208)</b></center>\n",
    "<pre>"
   ]
  },
  {
   "cell_type": "markdown",
   "metadata": {},
   "source": [
    "# Tuple"
   ]
  },
  {
   "cell_type": "markdown",
   "metadata": {},
   "source": [
    "### 01) WAP to find sum of tuple elements."
   ]
  },
  {
   "cell_type": "code",
   "execution_count": 2,
   "metadata": {},
   "outputs": [
    {
     "data": {
      "text/plain": [
       "3"
      ]
     },
     "execution_count": 2,
     "metadata": {},
     "output_type": "execute_result"
    }
   ],
   "source": [
    "t1 = (1,2)\n",
    "sum(t1)"
   ]
  },
  {
   "cell_type": "markdown",
   "metadata": {},
   "source": [
    "### 02) WAP to find Maximum and Minimum K elements in a given tuple."
   ]
  },
  {
   "cell_type": "code",
   "execution_count": 5,
   "metadata": {},
   "outputs": [
    {
     "name": "stdout",
     "output_type": "stream",
     "text": [
      "67\n",
      "1\n"
     ]
    }
   ],
   "source": [
    "t2 = (1,2,3,4,5,2,67,8,6,9,10)\n",
    "print(max(t2))\n",
    "print(min(t2))"
   ]
  },
  {
   "cell_type": "markdown",
   "metadata": {},
   "source": [
    "### 03) WAP to find tuples which have all elements divisible by K from a list of tuples."
   ]
  },
  {
   "cell_type": "code",
   "execution_count": 19,
   "metadata": {},
   "outputs": [
    {
     "name": "stdout",
     "output_type": "stream",
     "text": [
      "Enter a divisibility check no:2\n",
      "(2, 4, 6, 8)\n"
     ]
    }
   ],
   "source": [
    "l1 = [(1,2,3,4,78,5),(45,56,7,8),(2,4,6,8)]\n",
    "k = int(input('Enter a divisibility check no:'))\n",
    "for i in l1:\n",
    "    flag=True\n",
    "    for j in i:\n",
    "        if j%k!=0:\n",
    "            flag=False\n",
    "            break\n",
    "    if flag:\n",
    "        print(i)"
   ]
  },
  {
   "cell_type": "markdown",
   "metadata": {},
   "source": [
    "### 04) WAP to create a list of tuples from given list having number and its cube in each tuple."
   ]
  },
  {
   "cell_type": "code",
   "execution_count": 34,
   "metadata": {},
   "outputs": [
    {
     "name": "stdout",
     "output_type": "stream",
     "text": [
      "[(1, 1), (2, 8), (3, 27), (4, 64), (5, 125), (56, 175616), (6, 216), (7, 343), (8, 512)]\n"
     ]
    }
   ],
   "source": [
    "l1 = [1,2,3,4,5,56,6,7,8]\n",
    "ans = [(i,pow(i,3)) for i in l1]\n",
    "print(ans)"
   ]
  },
  {
   "cell_type": "markdown",
   "metadata": {},
   "source": [
    "### 05) WAP to find tuples with all positive elements from the given list of tuples."
   ]
  },
  {
   "cell_type": "code",
   "execution_count": 35,
   "metadata": {},
   "outputs": [
    {
     "name": "stdout",
     "output_type": "stream",
     "text": [
      "(3, 546, 567, 87)\n"
     ]
    }
   ],
   "source": [
    "l1 = [(1,2,3,-5,-4),(3,546,567,87)]\n",
    "for i in l1:\n",
    "    flag = True\n",
    "    for j in i:\n",
    "        if j<0:\n",
    "            flag = False\n",
    "            break\n",
    "    if flag:\n",
    "        print(i)"
   ]
  },
  {
   "cell_type": "markdown",
   "metadata": {},
   "source": [
    "### 06) WAP to add tuple to list and vice – versa."
   ]
  },
  {
   "cell_type": "code",
   "execution_count": 42,
   "metadata": {},
   "outputs": [
    {
     "name": "stdout",
     "output_type": "stream",
     "text": [
      "[13, 3, 44, 445, 35, 6, (1, 3, 2, 43, 4, 5)]\n",
      "(1, 3, 2, 43, 4, 5, [13, 3, 44, 445, 35, 6, (1, 3, 2, 43, 4, 5)])\n"
     ]
    }
   ],
   "source": [
    "l1 = [13,3,44,445,35,6]\n",
    "t1 = (1,3,2,43,4,5)\n",
    "l1.append(t1)\n",
    "t1 += (l1,)\n",
    "print(l1)\n",
    "print(t1)"
   ]
  },
  {
   "cell_type": "markdown",
   "metadata": {},
   "source": [
    "### 07) WAP to remove tuples of length K."
   ]
  },
  {
   "cell_type": "code",
   "execution_count": 47,
   "metadata": {},
   "outputs": [
    {
     "name": "stdout",
     "output_type": "stream",
     "text": [
      "Enter a no. to remove tuple:2\n",
      "[(3, 4, 5), (8, 9, 10)]\n"
     ]
    }
   ],
   "source": [
    "tuples_list = [(1, 2), (3, 4, 5), (6, 7), (8, 9, 10), (11,12)]\n",
    "k = int(input('Enter a no. to remove tuple:'))\n",
    "tuples_list = [tup for tup in tuples_list if len(tup) != k]\n",
    "print(tuples_list)"
   ]
  },
  {
   "cell_type": "markdown",
   "metadata": {},
   "source": [
    "### 08) WAP to remove duplicates from tuple."
   ]
  },
  {
   "cell_type": "code",
   "execution_count": 48,
   "metadata": {},
   "outputs": [
    {
     "name": "stdout",
     "output_type": "stream",
     "text": [
      "(1, 2, 4, 5, 13)\n"
     ]
    }
   ],
   "source": [
    "t1 = (1,13,2,2,4,5)\n",
    "t2 = list(t1)\n",
    "t3 = set(t2)\n",
    "t4 = tuple(t3)\n",
    "print(t4)"
   ]
  },
  {
   "cell_type": "markdown",
   "metadata": {},
   "source": [
    "### 09) WAP to multiply adjacent elements of a tuple and print that resultant tuple."
   ]
  },
  {
   "cell_type": "code",
   "execution_count": 1,
   "metadata": {},
   "outputs": [
    {
     "name": "stdin",
     "output_type": "stream",
     "text": [
      "Enter elements of the tuple separated by spaces:  2 2 5 5 52 2 \n"
     ]
    },
    {
     "name": "stdout",
     "output_type": "stream",
     "text": [
      "Resultant tuple after multiplying adjacent elements: (4, 10, 25, 260, 104)\n"
     ]
    }
   ],
   "source": [
    "input_tuple = tuple(map(int, input(\"Enter elements of the tuple separated by spaces: \").split()))\n",
    "result_tuple = tuple(input_tuple[i] * input_tuple[i + 1] for i in range(len(input_tuple) - 1))\n",
    "print(\"Resultant tuple after multiplying adjacent elements:\", result_tuple)"
   ]
  },
  {
   "cell_type": "markdown",
   "metadata": {},
   "source": [
    "### 10) WAP to test if the given tuple is distinct or not."
   ]
  },
  {
   "cell_type": "code",
   "execution_count": 2,
   "metadata": {},
   "outputs": [
    {
     "name": "stdin",
     "output_type": "stream",
     "text": [
      "Enter elements of the tuple separated by spaces:  2 2 5 5 2 52  5 \n"
     ]
    },
    {
     "name": "stdout",
     "output_type": "stream",
     "text": [
      "The tuple contains duplicate elements.\n"
     ]
    }
   ],
   "source": [
    "input_tuple = tuple(input(\"Enter elements of the tuple separated by spaces: \").split())\n",
    "if len(input_tuple) == len(set(input_tuple)):\n",
    "    print(\"The tuple contains distinct elements.\")\n",
    "else:\n",
    "    print(\"The tuple contains duplicate elements.\")"
   ]
  }
 ],
 "metadata": {
  "kernelspec": {
   "display_name": "Python 3 (ipykernel)",
   "language": "python",
   "name": "python3"
  },
  "language_info": {
   "codemirror_mode": {
    "name": "ipython",
    "version": 3
   },
   "file_extension": ".py",
   "mimetype": "text/x-python",
   "name": "python",
   "nbconvert_exporter": "python",
   "pygments_lexer": "ipython3",
   "version": "3.12.7"
  }
 },
 "nbformat": 4,
 "nbformat_minor": 4
}
