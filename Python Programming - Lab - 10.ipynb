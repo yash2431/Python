{
 "cells": [
  {
   "cell_type": "markdown",
   "metadata": {},
   "source": [
    "<a href='https://www.darshan.ac.in/'> <img src='https://www.darshan.ac.in/Content/media/DU_Logo.svg' width=\"250\" height=\"300\"/></a>\n",
    "<pre>\n",
    "<center><b><h1>Python Programming - 2301CS404</b></center>\n",
    "<center><b><h1>Lab - 10</b> \n",
    "<b><h1>Yash Pipalava (23010101208)</b>\n",
    "</center>    \n",
    "<pre>"
   ]
  },
  {
   "cell_type": "markdown",
   "metadata": {},
   "source": [
    "# Exception Handling"
   ]
  },
  {
   "cell_type": "markdown",
   "metadata": {},
   "source": [
    "### 01) WAP to handle following exceptions:\n",
    "1. ZeroDivisionError\n",
    "2. ValueError\n",
    "3. TypeError\n",
    "#### Note: handle them using separate except blocks and also using single except block too."
   ]
  },
  {
   "cell_type": "code",
   "execution_count": 1,
   "metadata": {},
   "outputs": [
    {
     "name": "stdout",
     "output_type": "stream",
     "text": [
      "Separate Except Blocks Demo:\n"
     ]
    },
    {
     "name": "stdin",
     "output_type": "stream",
     "text": [
      "Enter first number:  1\n",
      "Enter second number:  0\n"
     ]
    },
    {
     "name": "stdout",
     "output_type": "stream",
     "text": [
      "Error: Division by zero is not allowed!\n"
     ]
    }
   ],
   "source": [
    "def calculate_division():\n",
    "    try:\n",
    "        num1 = input(\"Enter first number: \")\n",
    "        num2 = input(\"Enter second number: \")\n",
    "        result = int(num1) / int(num2)\n",
    "        print(f\"Result: {result}\")\n",
    "    \n",
    "    except ZeroDivisionError:\n",
    "        print(\"Error: Division by zero is not allowed!\")\n",
    "    \n",
    "    except ValueError:\n",
    "        print(\"Error: Please enter valid numeric values!\")\n",
    "    \n",
    "    except TypeError:\n",
    "        print(\"Error: Invalid type for operation!\")\n",
    "\n",
    "# Test the function\n",
    "print(\"Separate Except Blocks Demo:\")\n",
    "calculate_division()"
   ]
  },
  {
   "cell_type": "markdown",
   "metadata": {},
   "source": [
    "### 02)  WAP to handle following exceptions:\n",
    "1. IndexError\n",
    "2. KeyError"
   ]
  },
  {
   "cell_type": "code",
   "execution_count": 3,
   "metadata": {},
   "outputs": [
    {
     "name": "stdout",
     "output_type": "stream",
     "text": [
      "Separate Except Blocks Demo:\n",
      "List length: 3\n",
      "Error: Index is out of range! Please use an index within the list bounds.\n"
     ]
    }
   ],
   "source": [
    "def separate_exceptions_demo():\n",
    "    try:\n",
    "        my_list = [1, 2, 3]\n",
    "        print(\"List length:\", len(my_list))\n",
    "        my_dict = {\"name\": \"John\", \"age\": 30}\n",
    "        \n",
    "        list_value = my_list[5] \n",
    "        dict_value = my_dict[\"address\"] \n",
    "        \n",
    "    except IndexError:\n",
    "        print(\"Error: Index is out of range! Please use an index within the list bounds.\")\n",
    "    \n",
    "    except KeyError:\n",
    "        print(\"Error: Key not found in dictionary! Please use an existing key.\")\n",
    "\n",
    "print(\"Separate Except Blocks Demo:\")\n",
    "separate_exceptions_demo()"
   ]
  },
  {
   "cell_type": "markdown",
   "metadata": {},
   "source": [
    "### 03) WAP to handle following exceptions:\n",
    "1. FileNotFoundError\n",
    "2. ModuleNotFoundError"
   ]
  },
  {
   "cell_type": "code",
   "execution_count": 4,
   "metadata": {},
   "outputs": [
    {
     "name": "stdout",
     "output_type": "stream",
     "text": [
      "Separate Except Blocks Demo:\n",
      "Error: The specified file was not found!\n"
     ]
    }
   ],
   "source": [
    "def separate_exceptions_demo():\n",
    "    try:\n",
    "        # File operation that might cause FileNotFoundError\n",
    "        with open(\"non_existent_file.txt\", \"r\") as file:\n",
    "            content = file.read()\n",
    "        \n",
    "        # Import that might cause ModuleNotFoundError\n",
    "        import non_existent_module\n",
    "        \n",
    "    except FileNotFoundError:\n",
    "        print(\"Error: The specified file was not found!\")\n",
    "        \n",
    "    except ModuleNotFoundError:\n",
    "        print(\"Error: The requested module could not be found!\")\n",
    "\n",
    "print(\"Separate Except Blocks Demo:\")\n",
    "separate_exceptions_demo()"
   ]
  },
  {
   "cell_type": "markdown",
   "metadata": {},
   "source": [
    "### 04) WAP that catches all type of exceptions in a single except block."
   ]
  },
  {
   "cell_type": "code",
   "execution_count": 5,
   "metadata": {},
   "outputs": [
    {
     "name": "stdout",
     "output_type": "stream",
     "text": [
      "Catch-All Exceptions Demo:\n"
     ]
    },
    {
     "name": "stdin",
     "output_type": "stream",
     "text": [
      "Enter first number:  1\n",
      "Enter second number:  0\n"
     ]
    },
    {
     "name": "stdout",
     "output_type": "stream",
     "text": [
      "An error occurred: division by zero\n",
      "Exception type: ZeroDivisionError\n"
     ]
    }
   ],
   "source": [
    "def catch_all_exceptions():\n",
    "    try:\n",
    "        num1 = input(\"Enter first number: \")\n",
    "        num2 = input(\"Enter second number: \")\n",
    "        my_list = [1, 2, 3]\n",
    "        my_dict = {\"key\": \"value\"}\n",
    "        \n",
    "        result = int(num1) / int(num2)  \n",
    "        list_item = my_list[10]         \n",
    "        dict_value = my_dict[\"none\"]    \n",
    "        \n",
    "        with open(\"missing.txt\", \"r\") as file: \n",
    "            content = file.read()\n",
    "\n",
    "        import nonexistentmodule  \n",
    "        \n",
    "    except Exception as e:\n",
    "        print(f\"An error occurred: {str(e)}\")\n",
    "        print(f\"Exception type: {type(e).__name__}\")\n",
    "\n",
    "print(\"Catch-All Exceptions Demo:\")\n",
    "catch_all_exceptions()"
   ]
  },
  {
   "cell_type": "markdown",
   "metadata": {},
   "source": [
    "### 05) WAP to demonstrate else  and finally block."
   ]
  },
  {
   "cell_type": "code",
   "execution_count": 13,
   "metadata": {},
   "outputs": [
    {
     "name": "stdout",
     "output_type": "stream",
     "text": [
      "5.0\n",
      "No exceptions occurred. The try block executed successfully.\n",
      "This block is always executed, regardless of exceptions.\n"
     ]
    }
   ],
   "source": [
    "try:\n",
    "    result=10/2\n",
    "    print(result)\n",
    "except ZeroDivisionError as e:\n",
    "    print(f\"An error occurred: {str(e)}\")\n",
    "\n",
    "else:\n",
    "    print(\"No exceptions occurred. The try block executed successfully.\")\n",
    "\n",
    "finally:\n",
    "    print(\"This block is always executed, regardless of exceptions.\")\n"
   ]
  },
  {
   "cell_type": "markdown",
   "metadata": {},
   "source": [
    "### 06) Create a short program that prompts the user for a list of grades separated by commas. \n",
    "### Split the string into individual grades and use a list comprehension to convert each string to an integer. \n",
    "### You should use a try statement to inform the user when the values they entered cannot be converted."
   ]
  },
  {
   "cell_type": "code",
   "execution_count": 18,
   "metadata": {},
   "outputs": [
    {
     "name": "stdin",
     "output_type": "stream",
     "text": [
      "Enter a list of grades separated by commas:  50,55,77,65,40\n"
     ]
    },
    {
     "name": "stdout",
     "output_type": "stream",
     "text": [
      "Grades: [50, 55, 77, 65, 40]\n"
     ]
    }
   ],
   "source": [
    "grades_input = input(\"Enter a list of grades separated by commas: \")\n",
    "\n",
    "try:\n",
    "    grades = [int(grade.strip()) for grade in grades_input.split(',')]\n",
    "    print(\"Grades:\", grades)\n",
    "\n",
    "except ValueError:\n",
    "    print(\"Error: Some of the values you entered cannot be converted to integers. Please enter valid numbers.\")"
   ]
  },
  {
   "cell_type": "markdown",
   "metadata": {},
   "source": [
    "### 07) WAP to create an udf divide(a,b) that handles ZeroDivisionError."
   ]
  },
  {
   "cell_type": "code",
   "execution_count": 16,
   "metadata": {},
   "outputs": [
    {
     "name": "stdin",
     "output_type": "stream",
     "text": [
      "Enter number A :  5.1\n",
      "Enter number B :  1.2\n"
     ]
    },
    {
     "name": "stdout",
     "output_type": "stream",
     "text": [
      "Result : 4.25\n"
     ]
    }
   ],
   "source": [
    "def divide(A,B):\n",
    "    try:\n",
    "        result=A/B\n",
    "    except ZeroDivisionError:\n",
    "        return \"Error : Cannot divide by Zero.\"\n",
    "\n",
    "    else: \n",
    "        return result\n",
    "\n",
    "A=float(input(\"Enter number A : \"))\n",
    "B=float(input(\"Enter number B : \"))\n",
    "result=divide(A,B)\n",
    "print(f\"Result : {result}\")"
   ]
  },
  {
   "cell_type": "markdown",
   "metadata": {},
   "source": [
    "### 08) WAP that gets an age of a person form the user and raises ValueError with error message: \"Enter Valid Age\" :\n",
    "#### If the age is less than 18. \n",
    "#### otherwise print the age."
   ]
  },
  {
   "cell_type": "code",
   "execution_count": 8,
   "metadata": {},
   "outputs": [
    {
     "name": "stdout",
     "output_type": "stream",
     "text": [
      "Age Checker Program:\n"
     ]
    },
    {
     "name": "stdin",
     "output_type": "stream",
     "text": [
      "Enter your age:  16\n"
     ]
    },
    {
     "name": "stdout",
     "output_type": "stream",
     "text": [
      "Error: Enter Valid Age\n"
     ]
    }
   ],
   "source": [
    "def check_age():\n",
    "    try:\n",
    "        age = int(input(\"Enter your age: \"))\n",
    "        if age < 18:\n",
    "            raise ValueError(\"Enter Valid Age\")\n",
    "        print(f\"Your age is: {age}\")\n",
    "        \n",
    "    except ValueError as e:\n",
    "        if str(e) == \"Enter Valid Age\":\n",
    "            print(f\"Error: {e}\")\n",
    "        else:\n",
    "            print(\"Error: Please enter a valid numeric age\")\n",
    "\n",
    "print(\"Age Checker Program:\")\n",
    "check_age()"
   ]
  },
  {
   "cell_type": "markdown",
   "metadata": {},
   "source": [
    "### 09) WAP to raise your custom Exception named InvalidUsernameError with the error message : \"Username must be between 5 and 15 characters long\":\n",
    "#### if the given name is having characters less than 5 or greater than 15.\n",
    "#### otherwise print the given username."
   ]
  },
  {
   "cell_type": "code",
   "execution_count": 1,
   "metadata": {},
   "outputs": [
    {
     "name": "stdin",
     "output_type": "stream",
     "text": [
      "Enter your name:: raj\n"
     ]
    },
    {
     "name": "stdout",
     "output_type": "stream",
     "text": [
      "Error:Username must be between 5 and 15 characters long\n"
     ]
    }
   ],
   "source": [
    "class InvalidUsername(Exception):\n",
    "    pass\n",
    "def custom_exception():\n",
    "    try:\n",
    "        name=input(\"Enter your name::\")\n",
    "        if(len(name)<5 or len(name)>15):\n",
    "            raise InvalidUsername(\"Username must be between 5 and 15 characters long\")\n",
    "    except InvalidUsername as e:\n",
    "        print(f\"Error:{str(e)}\")\n",
    "custom_exception()"
   ]
  },
  {
   "cell_type": "markdown",
   "metadata": {},
   "source": [
    "### 10) WAP to raise your custom Exception named NegativeNumberError with the error message : \"Cannot calculate the square root of a negative number\" :\n",
    "#### if the given number is negative.\n",
    "#### otherwise print the square root of the given number."
   ]
  },
  {
   "cell_type": "code",
   "execution_count": 2,
   "metadata": {},
   "outputs": [
    {
     "name": "stdin",
     "output_type": "stream",
     "text": [
      "Enter a number to calculate its square root:  5\n"
     ]
    },
    {
     "name": "stdout",
     "output_type": "stream",
     "text": [
      "The square root of 5.0 is: 2.23606797749979\n"
     ]
    }
   ],
   "source": [
    "import math\n",
    "class NegativeNumberError(Exception):\n",
    "    pass\n",
    "def calculate_square_root():\n",
    "    try:\n",
    "        number = float(input(\"Enter a number to calculate its square root: \"))\n",
    "        if number < 0:\n",
    "            raise NegativeNumberError(\"Cannot calculate the square root of a negative number\")\n",
    "        sqrt_result = math.sqrt(number)\n",
    "        print(f\"The square root of {number} is: {sqrt_result}\")\n",
    "    except NegativeNumberError as e:\n",
    "        print(f\"Error: {str(e)}\")\n",
    "    except ValueError:\n",
    "        print(\"Error: Please enter a valid number.\")\n",
    "calculate_square_root()\n"
   ]
  }
 ],
 "metadata": {
  "kernelspec": {
   "display_name": "Python 3 (ipykernel)",
   "language": "python",
   "name": "python3"
  },
  "language_info": {
   "codemirror_mode": {
    "name": "ipython",
    "version": 3
   },
   "file_extension": ".py",
   "mimetype": "text/x-python",
   "name": "python",
   "nbconvert_exporter": "python",
   "pygments_lexer": "ipython3",
   "version": "3.12.7"
  }
 },
 "nbformat": 4,
 "nbformat_minor": 4
}
