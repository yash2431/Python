{
 "cells": [
  {
   "cell_type": "markdown",
   "metadata": {},
   "source": [
    "<a href='https://www.darshan.ac.in/'> <img src='https://www.darshan.ac.in/Content/media/DU_Logo.svg' width=\"250\" height=\"10\"/></a>\n",
    "<pre>\n",
    "<center><b><h1>Python Programming - 2301CS404</b></center>\n",
    "<center><b><h1>Lab - 1</b></center>\n",
    "<center><b><h1>Yash Pipalava (23010101208)</b></center> \n",
    "<pre>"
   ]
  },
  {
   "cell_type": "markdown",
   "metadata": {},
   "source": [
    "### 01) WAP to print “Hello World”"
   ]
  },
  {
   "cell_type": "code",
   "execution_count": 1,
   "metadata": {},
   "outputs": [
    {
     "name": "stdout",
     "output_type": "stream",
     "text": [
      "Hello World\n"
     ]
    }
   ],
   "source": [
    "print(\"Hello World\")"
   ]
  },
  {
   "cell_type": "markdown",
   "metadata": {},
   "source": [
    "### 02) WAP to print addition of two numbers with and without using input()."
   ]
  },
  {
   "cell_type": "code",
   "execution_count": 2,
   "metadata": {},
   "outputs": [
    {
     "name": "stdout",
     "output_type": "stream",
     "text": [
      "12\n"
     ]
    }
   ],
   "source": [
    "a=10\n",
    "b=2\n",
    "print(a+b)"
   ]
  },
  {
   "cell_type": "code",
   "execution_count": 3,
   "metadata": {},
   "outputs": [
    {
     "name": "stdout",
     "output_type": "stream",
     "text": [
      "Enter first no2\n",
      "ENter second number5\n",
      "7\n"
     ]
    }
   ],
   "source": [
    "a=int(input(\"Enter first no\"))\n",
    "b=int(input(\"ENter second number\"))\n",
    "print(a+b)"
   ]
  },
  {
   "cell_type": "markdown",
   "metadata": {},
   "source": [
    "### 03) WAP to check the type of the variable."
   ]
  },
  {
   "cell_type": "code",
   "execution_count": 4,
   "metadata": {},
   "outputs": [
    {
     "data": {
      "text/plain": [
       "int"
      ]
     },
     "execution_count": 4,
     "metadata": {},
     "output_type": "execute_result"
    }
   ],
   "source": [
    "a=10\n",
    "type(a)"
   ]
  },
  {
   "cell_type": "markdown",
   "metadata": {},
   "source": [
    "### 04) WAP to calculate simple interest."
   ]
  },
  {
   "cell_type": "code",
   "execution_count": 1,
   "metadata": {},
   "outputs": [
    {
     "name": "stdout",
     "output_type": "stream",
     "text": [
      "ENter no5\n",
      "ENter no5\n",
      "ENter no10\n",
      "2.5\n"
     ]
    }
   ],
   "source": [
    "p=int(input(\"ENter no\"))\n",
    "r=int(input(\"ENter no\"))\n",
    "t=int(input(\"ENter no\"))\n",
    "sp=(p*r*t)/100\n",
    "print(sp)"
   ]
  },
  {
   "cell_type": "markdown",
   "metadata": {},
   "source": [
    "### 05) WAP to calculate area and perimeter of a circle."
   ]
  },
  {
   "cell_type": "code",
   "execution_count": 6,
   "metadata": {},
   "outputs": [
    {
     "name": "stdout",
     "output_type": "stream",
     "text": [
      "ENter radius:4\n",
      "50.24\n",
      "25.12\n"
     ]
    }
   ],
   "source": [
    "r=float(input(\"ENter radius:\"))\n",
    "area=3.14*r*r\n",
    "perimeter=2*3.14*r\n",
    "print(area)\n",
    "print(perimeter)"
   ]
  },
  {
   "cell_type": "markdown",
   "metadata": {},
   "source": [
    "### 06) WAP to calculate area of a triangle."
   ]
  },
  {
   "cell_type": "code",
   "execution_count": 11,
   "metadata": {},
   "outputs": [
    {
     "name": "stdout",
     "output_type": "stream",
     "text": [
      "Enter base:5\n",
      "Enter height:6\n",
      "15.0\n"
     ]
    }
   ],
   "source": [
    "b = float(input(\"Enter base:\"))\n",
    "h = float(input(\"Enter height:\"))\n",
    "area = 0.5*b*h\n",
    "print(area)"
   ]
  },
  {
   "cell_type": "markdown",
   "metadata": {},
   "source": [
    "### 07) WAP to compute quotient and remainder."
   ]
  },
  {
   "cell_type": "code",
   "execution_count": 13,
   "metadata": {},
   "outputs": [
    {
     "name": "stdout",
     "output_type": "stream",
     "text": [
      "Enter a no:5\n",
      "Enter a no:6\n",
      "0.0\n",
      "5.0\n"
     ]
    }
   ],
   "source": [
    "a=float(input(\"Enter a no:\"))\n",
    "b=float(input(\"Enter a no:\"))\n",
    "print(a//b)\n",
    "print(a%b)"
   ]
  },
  {
   "cell_type": "markdown",
   "metadata": {},
   "source": [
    "### 08) WAP to convert degree into Fahrenheit and vice versa."
   ]
  },
  {
   "cell_type": "code",
   "execution_count": 1,
   "metadata": {},
   "outputs": [
    {
     "name": "stdin",
     "output_type": "stream",
     "text": [
      "Enter the temperature:  25\n",
      "Enter the unit (C for Celsius, F for Fahrenheit):  C\n"
     ]
    },
    {
     "name": "stdout",
     "output_type": "stream",
     "text": [
      "25.0°C is equal to 77.0°F\n"
     ]
    }
   ],
   "source": [
    "temp = float(input(\"Enter the temperature: \"))\n",
    "unit = input(\"Enter the unit (C for Celsius, F for Fahrenheit): \").upper()\n",
    "\n",
    "if unit == 'C':\n",
    "    fahrenheit = (temp * 9/5) + 32\n",
    "    print(f\"{temp}°C is equal to {fahrenheit}°F\")\n",
    "elif unit == 'F':\n",
    "    celsius = (temp - 32) * 5/9\n",
    "    print(f\"{temp}°F is equal to {celsius}°C\")\n",
    "else:\n",
    "    print(\"Invalid unit entered. Please use 'C' or 'F'.\")"
   ]
  },
  {
   "cell_type": "markdown",
   "metadata": {},
   "source": [
    "### 09) WAP to find the distance between two points in 2-D space."
   ]
  },
  {
   "cell_type": "code",
   "execution_count": 2,
   "metadata": {},
   "outputs": [
    {
     "name": "stdin",
     "output_type": "stream",
     "text": [
      "Enter x-coordinate of the first point:  2\n",
      "Enter y-coordinate of the first point:  5\n",
      "Enter x-coordinate of the second point:  8\n",
      "Enter y-coordinate of the second point:  9\n"
     ]
    },
    {
     "name": "stdout",
     "output_type": "stream",
     "text": [
      "The distance between the points (2.0, 5.0) and (8.0, 9.0) is 7.21\n"
     ]
    }
   ],
   "source": [
    "x1 = float(input(\"Enter x-coordinate of the first point: \"))\n",
    "y1 = float(input(\"Enter y-coordinate of the first point: \"))\n",
    "x2 = float(input(\"Enter x-coordinate of the second point: \"))\n",
    "y2 = float(input(\"Enter y-coordinate of the second point: \"))\n",
    "distance = ((x2 - x1) ** 2 + (y2 - y1) ** 2) ** 0.5\n",
    "print(f\"The distance between the points ({x1}, {y1}) and ({x2}, {y2}) is {distance:.2f}\")"
   ]
  },
  {
   "cell_type": "markdown",
   "metadata": {},
   "source": [
    "### 10) WAP to print sum of n natural numbers."
   ]
  },
  {
   "cell_type": "code",
   "execution_count": 3,
   "metadata": {},
   "outputs": [
    {
     "name": "stdin",
     "output_type": "stream",
     "text": [
      "Enter a positive integer (n):  12\n"
     ]
    },
    {
     "name": "stdout",
     "output_type": "stream",
     "text": [
      "The sum of the first 12 natural numbers is: 78\n"
     ]
    }
   ],
   "source": [
    "n = int(input(\"Enter a positive integer (n): \"))\n",
    "sum_natural = 0\n",
    "for i in range(1, n + 1):\n",
    "    sum_natural += i\n",
    "\n",
    "print(f\"The sum of the first {n} natural numbers is: {sum_natural}\")"
   ]
  },
  {
   "cell_type": "markdown",
   "metadata": {},
   "source": [
    "### 11) WAP to print sum of square of n natural numbers."
   ]
  },
  {
   "cell_type": "code",
   "execution_count": 4,
   "metadata": {},
   "outputs": [
    {
     "name": "stdin",
     "output_type": "stream",
     "text": [
      "Enter a positive integer (n):  52\n"
     ]
    },
    {
     "name": "stdout",
     "output_type": "stream",
     "text": [
      "The sum of squares of the first 52 natural numbers is: 48230\n"
     ]
    }
   ],
   "source": [
    "n = int(input(\"Enter a positive integer (n): \"))\n",
    "sum_of_squares = 0\n",
    "\n",
    "for i in range(1, n + 1):\n",
    "    sum_of_squares += i ** 2\n",
    "    \n",
    "print(f\"The sum of squares of the first {n} natural numbers is: {sum_of_squares}\")"
   ]
  },
  {
   "cell_type": "markdown",
   "metadata": {},
   "source": [
    "### 12) WAP to concate the first and last name of the student."
   ]
  },
  {
   "cell_type": "code",
   "execution_count": 5,
   "metadata": {},
   "outputs": [
    {
     "name": "stdin",
     "output_type": "stream",
     "text": [
      "Enter the first name:  kskd\n",
      "Enter the last name:  asjdhjsh\n"
     ]
    },
    {
     "name": "stdout",
     "output_type": "stream",
     "text": [
      "The full name of the student is: kskd asjdhjsh\n"
     ]
    }
   ],
   "source": [
    "first_name = input(\"Enter the first name: \")\n",
    "last_name = input(\"Enter the last name: \")\n",
    "full_name = first_name + \" \" + last_name\n",
    "print(\"The full name of the student is:\", full_name)"
   ]
  },
  {
   "cell_type": "markdown",
   "metadata": {},
   "source": [
    "### 13) WAP to swap two numbers."
   ]
  },
  {
   "cell_type": "code",
   "execution_count": 6,
   "metadata": {},
   "outputs": [
    {
     "name": "stdin",
     "output_type": "stream",
     "text": [
      "Enter the first number (a):  1\n",
      "Enter the second number (b):  5\n"
     ]
    },
    {
     "name": "stdout",
     "output_type": "stream",
     "text": [
      "Before swapping: a = 1, b = 5\n",
      "After swapping: a = 5, b = 1\n"
     ]
    }
   ],
   "source": [
    "a = int(input(\"Enter the first number (a): \"))\n",
    "b = int(input(\"Enter the second number (b): \"))\n",
    "print(f\"Before swapping: a = {a}, b = {b}\")\n",
    "a, b = b, a\n",
    "print(f\"After swapping: a = {a}, b = {b}\")"
   ]
  },
  {
   "cell_type": "markdown",
   "metadata": {},
   "source": [
    "### 14) WAP to get the distance from user into kilometer, and convert it into meter, feet, inches and centimeter."
   ]
  },
  {
   "cell_type": "code",
   "execution_count": 7,
   "metadata": {},
   "outputs": [
    {
     "name": "stdin",
     "output_type": "stream",
     "text": [
      "Enter the distance in kilometers:  52\n"
     ]
    },
    {
     "name": "stdout",
     "output_type": "stream",
     "text": [
      "52.0 kilometers is equal to:\n",
      "52000.0 meters\n",
      "5200000.0 centimeters\n",
      "170603.68 feet\n",
      "2047245.2 inches\n"
     ]
    }
   ],
   "source": [
    "distance_km = float(input(\"Enter the distance in kilometers: \"))\n",
    "\n",
    "km_to_m = 1000\n",
    "km_to_cm = 100000     \n",
    "km_to_feet = 3280.84  \n",
    "km_to_inches = 39370.1  \n",
    "\n",
    "distance_m = distance_km * km_to_m\n",
    "distance_cm = distance_km * km_to_cm\n",
    "distance_feet = distance_km * km_to_feet\n",
    "distance_inches = distance_km * km_to_inches\n",
    "\n",
    "print(f\"{distance_km} kilometers is equal to:\")\n",
    "print(f\"{distance_m} meters\")\n",
    "print(f\"{distance_cm} centimeters\")\n",
    "print(f\"{distance_feet} feet\")\n",
    "print(f\"{distance_inches} inches\")"
   ]
  },
  {
   "cell_type": "markdown",
   "metadata": {},
   "source": [
    "### 15) WAP to get day, month and year from the user and print the date in the given format: 23-11-2024."
   ]
  },
  {
   "cell_type": "code",
   "execution_count": 9,
   "metadata": {},
   "outputs": [
    {
     "name": "stdin",
     "output_type": "stream",
     "text": [
      "Enter the day:  1\n",
      "Enter the month:  2\n",
      "Enter the year:  2004\n"
     ]
    },
    {
     "name": "stdout",
     "output_type": "stream",
     "text": [
      "01-02-2004\n"
     ]
    }
   ],
   "source": [
    "day = int(input(\"Enter the day: \"))\n",
    "month = int(input(\"Enter the month: \"))\n",
    "year = int(input(\"Enter the year: \"))\n",
    "print(f\"{day:02d}-{month:02d}-{year}\")"
   ]
  }
 ],
 "metadata": {
  "kernelspec": {
   "display_name": "Python 3 (ipykernel)",
   "language": "python",
   "name": "python3"
  },
  "language_info": {
   "codemirror_mode": {
    "name": "ipython",
    "version": 3
   },
   "file_extension": ".py",
   "mimetype": "text/x-python",
   "name": "python",
   "nbconvert_exporter": "python",
   "pygments_lexer": "ipython3",
   "version": "3.12.7"
  },
  "vscode": {
   "interpreter": {
    "hash": "31f2aee4e71d21fbe5cf8b01ff0e069b9275f58929596ceb00d14d90e3e16cd6"
   }
  }
 },
 "nbformat": 4,
 "nbformat_minor": 4
}
