{
 "cells": [
  {
   "cell_type": "markdown",
   "metadata": {},
   "source": [
    "<a href='https://www.darshan.ac.in/'> <img src='https://www.darshan.ac.in/Content/media/DU_Logo.svg' width=\"250\" height=\"300\"/></a>\n",
    "<pre>\n",
    "<center><b><h1>Python Programming - 2301CS404</b></center>\n",
    "<center><b><h1>Lab - 9</b></center> \n",
    "    <center><b><h1>Yash Pipalava (23010101208)</b></center>\n",
    "\n",
    "    \n",
    "<pre>"
   ]
  },
  {
   "cell_type": "markdown",
   "metadata": {},
   "source": [
    "# File I/O"
   ]
  },
  {
   "cell_type": "markdown",
   "metadata": {},
   "source": [
    "### 01) WAP to read and display the contents of a text file. (also try to open the file in some other directory) \n",
    "#### - in the form of a string\n",
    "#### - line by line\n",
    "#### - in the form of a list"
   ]
  },
  {
   "cell_type": "code",
   "execution_count": 13,
   "metadata": {},
   "outputs": [
    {
     "name": "stdout",
     "output_type": "stream",
     "text": [
      "dsjogsgojojo\n",
      "jwdjvewvjl\n",
      "dsvmdsvl;n\n",
      "dsjogsgojojo\n",
      "\n",
      "['dsjogsgojojo\\n', 'jwdjvewvjl\\n', 'dsvmdsvl;n']\n"
     ]
    }
   ],
   "source": [
    "#Whole file\n",
    "fp = open('DemoFile.txt','r')\n",
    "data = fp.read()\n",
    "print(data)\n",
    "fp.close()\n",
    "\n",
    "#Line by line\n",
    "fp = open('DemoFile.txt','r')\n",
    "data = fp.readline()\n",
    "print(data)\n",
    "fp.close()\n",
    "\n",
    "#List\n",
    "fp = open('DemoFile.txt','r')\n",
    "data = fp.readlines()\n",
    "print(data)\n",
    "fp.close()"
   ]
  },
  {
   "cell_type": "markdown",
   "metadata": {},
   "source": [
    "### 02) WAP to create file named \"new.txt\" only if it doesn't exist."
   ]
  },
  {
   "cell_type": "code",
   "execution_count": 14,
   "metadata": {},
   "outputs": [
    {
     "name": "stdout",
     "output_type": "stream",
     "text": [
      "23\n"
     ]
    }
   ],
   "source": [
    "fp=open('new.txt','w')\n",
    "data=fp.write(\"Hello world from python\")\n",
    "print(data)\n",
    "fp.close()"
   ]
  },
  {
   "cell_type": "markdown",
   "metadata": {},
   "source": [
    "### 03) WAP to read first 5 lines from the text file."
   ]
  },
  {
   "cell_type": "code",
   "execution_count": 13,
   "metadata": {},
   "outputs": [
    {
     "name": "stdout",
     "output_type": "stream",
     "text": [
      "Lab_9 demo file.\n",
      "\n",
      "This is lab_9\n",
      "\n",
      "Lab_9 is we are currently working.\n",
      "\n",
      "hello\n",
      "\n",
      "good afternoon\n",
      "\n"
     ]
    }
   ],
   "source": [
    "fp=open('DemoFile.txt','r')\n",
    "for i in range(5):\n",
    "    print(fp.readline())\n",
    "fp.close()"
   ]
  },
  {
   "cell_type": "markdown",
   "metadata": {},
   "source": [
    "### 04) WAP to find the longest word(s) in a file"
   ]
  },
  {
   "cell_type": "code",
   "execution_count": 15,
   "metadata": {},
   "outputs": [
    {
     "name": "stdout",
     "output_type": "stream",
     "text": [
      "currently\n"
     ]
    }
   ],
   "source": [
    "fp=open('DemoFile.txt','r')\n",
    "word=fp.read().split()\n",
    "print(max(word,key=len))\n",
    "fp.close()"
   ]
  },
  {
   "cell_type": "markdown",
   "metadata": {},
   "source": [
    "### 05) WAP to count the no. of lines, words and characters in a given text file."
   ]
  },
  {
   "cell_type": "code",
   "execution_count": 16,
   "metadata": {},
   "outputs": [
    {
     "name": "stdout",
     "output_type": "stream",
     "text": [
      "6\n",
      "17\n",
      "95\n"
     ]
    }
   ],
   "source": [
    "#Count no. of lines\n",
    "fp = open('DemoFile.txt','r')\n",
    "data = len(fp.readlines())\n",
    "print(data)\n",
    "fp.close()\n",
    "\n",
    "#words\n",
    "fp = open('DemoFile.txt','r')\n",
    "data = len(fp.readline())\n",
    "print(data)\n",
    "fp.close()\n",
    "\n",
    "#characters\n",
    "fp = open('DemoFile.txt','r')\n",
    "data = len(fp.read())\n",
    "print(data)\n",
    "fp.close()"
   ]
  },
  {
   "cell_type": "markdown",
   "metadata": {},
   "source": [
    "### 06) WAP to copy the content of a file to the another file."
   ]
  },
  {
   "cell_type": "code",
   "execution_count": 19,
   "metadata": {},
   "outputs": [],
   "source": [
    "f1=open('DemoFile.txt','r')\n",
    "f2=open('DemoFile1.txt','w')\n",
    "for i in f1:\n",
    "    f2.write(i)\n",
    "f1.close()\n",
    "f2.close()"
   ]
  },
  {
   "cell_type": "markdown",
   "metadata": {},
   "source": [
    "### 07) WAP to find the size of the text file. "
   ]
  },
  {
   "cell_type": "code",
   "execution_count": 20,
   "metadata": {},
   "outputs": [
    {
     "name": "stdout",
     "output_type": "stream",
     "text": [
      "95\n"
     ]
    }
   ],
   "source": [
    "import os\n",
    "size=os.path.getsize('DemoFile.txt')\n",
    "print(size)\n"
   ]
  },
  {
   "cell_type": "markdown",
   "metadata": {},
   "source": [
    "### 08) WAP to create an UDF named frequency to count occurances of the specific word in a given text file."
   ]
  },
  {
   "cell_type": "code",
   "execution_count": 23,
   "metadata": {},
   "outputs": [
    {
     "name": "stdout",
     "output_type": "stream",
     "text": [
      "1\n"
     ]
    }
   ],
   "source": [
    "def frequency (file_content,specific_words):\n",
    "    count=file_content.count(specific_words)\n",
    "    return count\n",
    "fp=open('new.txt','r')\n",
    "data=fp.read()\n",
    "\n",
    "print(frequency(data.split(),'world'))\n",
    "fp.close()"
   ]
  },
  {
   "cell_type": "markdown",
   "metadata": {},
   "source": [
    "### 09) WAP to get the score of five subjects from the user, store them in a file. Fetch those marks and find the highest score."
   ]
  },
  {
   "cell_type": "code",
   "execution_count": 4,
   "metadata": {},
   "outputs": [
    {
     "name": "stdout",
     "output_type": "stream",
     "text": [
      "Enter marks of subject 1 :  55\n",
      "Enter marks of subject 2 :  60\n",
      "Enter marks of subject 3 :  47\n",
      "Enter marks of subject 4 :  49\n",
      "Enter marks of subject 5 :  50\n"
     ]
    },
    {
     "name": "stdout",
     "output_type": "stream",
     "text": [
      "60\n"
     ]
    }
   ],
   "source": [
    "fp=open('NewFile.txt','w+')\n",
    "for i in range(1,6):\n",
    "    mark=input(f\"Enter marks of subject {i} : \")\n",
    "    fp.write(mark+\"\\n\")\n",
    "fp.seek(0)\n",
    "l1=fp.read().split()\n",
    "print(max(l1))\n",
    "fp.close()"
   ]
  },
  {
   "cell_type": "markdown",
   "metadata": {},
   "source": [
    "### 10) WAP to write first 100 prime numbers to a file named primenumbers.txt \n",
    "(Note: each number should be in new line)"
   ]
  },
  {
   "cell_type": "code",
   "execution_count": 11,
   "metadata": {},
   "outputs": [],
   "source": [
    "def is_prime(num):\n",
    "    if num < 2:\n",
    "        return False\n",
    "    for i in range(2, int(num**0.5) + 1):\n",
    "        if num % i == 0:\n",
    "            return False\n",
    "    return True\n",
    "\n",
    "def prime_numbers(n, filename):\n",
    "    count = 0\n",
    "    num = 2\n",
    "    with open(filename, 'w') as fp:\n",
    "        while count < n:\n",
    "            if is_prime(num):\n",
    "                fp.write(f\"{num}\\n\")\n",
    "                count += 1\n",
    "            num += 1 \n",
    "\n",
    "prime_numbers(100, \"primenumbers.txt\")"
   ]
  },
  {
   "cell_type": "markdown",
   "metadata": {},
   "source": [
    "### 11) WAP to merge two files and write it in a new file."
   ]
  },
  {
   "cell_type": "code",
   "execution_count": 12,
   "metadata": {},
   "outputs": [
    {
     "name": "stdout",
     "output_type": "stream",
     "text": [
      "Files 'newFile.txt' and 'newFile2.txt' have been merged into 'mergedFile.txt'\n"
     ]
    }
   ],
   "source": [
    "f1 = open(\"newFile.txt\", \"r\")\n",
    "f2 = open(\"new.txt\", \"r\")\n",
    "fp = open(\"mergedFile.txt\", \"w\")\n",
    "fp.write(f1.read())\n",
    "fp.write(f2.read())\n",
    "f1.close()\n",
    "f2.close()\n",
    "fp.close()\n",
    "\n",
    "print(\"Files 'newFile.txt' and 'newFile2.txt' have been merged into 'mergedFile.txt'\")"
   ]
  },
  {
   "cell_type": "markdown",
   "metadata": {},
   "source": [
    "### 12) WAP to replace word1 by word2 of a text file. Write the updated data to new file."
   ]
  },
  {
   "cell_type": "code",
   "execution_count": 7,
   "metadata": {},
   "outputs": [
    {
     "name": "stdout",
     "output_type": "stream",
     "text": [
      "The word replacement has been done and saved to 'updated_content.txt'\n"
     ]
    }
   ],
   "source": [
    "f1 = open(\"mergedfile.txt\", \"r\")\n",
    "content = f1.read()\n",
    "updated_content = content.replace('Hi', 'bye')\n",
    "new_file = open(\"updated_content.txt\", \"w\")\n",
    "new_file.write(updated_content)\n",
    "f1.close()\n",
    "new_file.close()\n",
    "\n",
    "print(\"The word replacement has been done and saved to 'updated_content.txt'\")"
   ]
  },
  {
   "cell_type": "markdown",
   "metadata": {},
   "source": [
    "### 13) Demonstrate tell() and seek() for all the cases(seek from beginning-end-current position) taking a suitable example of your choice."
   ]
  },
  {
   "cell_type": "code",
   "execution_count": 2,
   "metadata": {},
   "outputs": [
    {
     "name": "stdout",
     "output_type": "stream",
     "text": [
      "Case 1: Current position from beginning (before reading): 0\n",
      "Reading first 5 characters:\n",
      "Hello\n",
      "Position after reading 5 characters: 5\n",
      "\n",
      "Case 2: Seek from the beginning to position 0: 0\n"
     ]
    }
   ],
   "source": [
    "with open('./NewFile.txt.txt', 'w') as fp:\n",
    "    fp.write(\"Hello, this is a sample file for demonstrating tell() and seek().\")\n",
    "\n",
    "with open('./NewFile.txt.txt', 'r') as fp:\n",
    "    # Case 1: Tell the current position from the beginning\n",
    "    print(\"Case 1: Current position from beginning (before reading):\", fp.tell())\n",
    "    print(\"Reading first 5 characters:\")\n",
    "    print(fp.read(5))  # Read first 5 characters\n",
    "    print(\"Position after reading 5 characters:\", fp.tell())\n",
    "    \n",
    "    # Case 2: Seek from the beginning (SEEK_SET)\n",
    "    fp.seek(0, 0)  # Move the pointer to the beginning\n",
    "    print(\"\\nCase 2: Seek from the beginning to position 0:\", fp.tell())"
   ]
  }
 ],
 "metadata": {
  "kernelspec": {
   "display_name": "Python 3 (ipykernel)",
   "language": "python",
   "name": "python3"
  },
  "language_info": {
   "codemirror_mode": {
    "name": "ipython",
    "version": 3
   },
   "file_extension": ".py",
   "mimetype": "text/x-python",
   "name": "python",
   "nbconvert_exporter": "python",
   "pygments_lexer": "ipython3",
   "version": "3.12.7"
  }
 },
 "nbformat": 4,
 "nbformat_minor": 4
}
