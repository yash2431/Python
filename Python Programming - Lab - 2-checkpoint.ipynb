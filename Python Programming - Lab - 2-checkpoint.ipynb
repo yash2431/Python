{
 "cells": [
  {
   "cell_type": "markdown",
   "metadata": {},
   "source": [
    "\n",
    "<a href='https://www.darshan.ac.in/'> <img src='https://www.darshan.ac.in/Content/media/DU_Logo.svg' width=\"250\" height=\"300\"/></a>\n",
    "<pre>\n",
    "<center><b><h1>Python Programming - 2301CS404</b></center>\n",
    "<center><b><h1>Lab - 2</b></center>\n",
    "<center><b><h1>Yash Pipalava (23010101208)</h1></b></center>\n",
    "<pre>"
   ]
  },
  {
   "cell_type": "markdown",
   "metadata": {},
   "source": [
    "### 01) WAP to check whether the given number is positive or negative."
   ]
  },
  {
   "cell_type": "code",
   "execution_count": 4,
   "metadata": {},
   "outputs": [
    {
     "name": "stdin",
     "output_type": "stream",
     "text": [
      "Enter a no.: 23\n"
     ]
    },
    {
     "name": "stdout",
     "output_type": "stream",
     "text": [
      "positive\n"
     ]
    }
   ],
   "source": [
    "a = int(input(\"Enter a no.:\"))\n",
    "if a>0:\n",
    "    print(\"positive\")\n",
    "else:\n",
    "    print(\"negative\")"
   ]
  },
  {
   "cell_type": "markdown",
   "metadata": {},
   "source": [
    "### 02) WAP to check whether the given number is odd or even."
   ]
  },
  {
   "cell_type": "code",
   "execution_count": 2,
   "metadata": {},
   "outputs": [
    {
     "name": "stdout",
     "output_type": "stream",
     "text": [
      "Enter a no.:15\n",
      "number is odd\n"
     ]
    }
   ],
   "source": [
    "a = int(input(\"Enter a no.:\"))\n",
    "if a%2==0:\n",
    "    print(\"number is even\")\n",
    "else:\n",
    "    print(\"number is odd\")"
   ]
  },
  {
   "cell_type": "markdown",
   "metadata": {},
   "source": [
    "### 03) WAP to find out largest number from given two numbers using simple if and ternary operator."
   ]
  },
  {
   "cell_type": "code",
   "execution_count": 4,
   "metadata": {},
   "outputs": [
    {
     "name": "stdout",
     "output_type": "stream",
     "text": [
      "Enter first no.:4\n",
      "Enter second number:6\n",
      "b is greater\n"
     ]
    }
   ],
   "source": [
    "a = int(input(\"Enter first no.:\"))\n",
    "b = int(input(\"Enter second number:\"))\n",
    "if a>b:\n",
    "    print(\"a is greater\")\n",
    "elif b>a:\n",
    "    print(\"b is greater\")\n",
    "else:\n",
    "    print(\"both numbers are equal\")"
   ]
  },
  {
   "cell_type": "code",
   "execution_count": 6,
   "metadata": {},
   "outputs": [
    {
     "name": "stdout",
     "output_type": "stream",
     "text": [
      "Enter first no.:5\n",
      "Enter second number:9\n",
      "b is greater\n"
     ]
    }
   ],
   "source": [
    "a = int(input(\"Enter first no.:\"))\n",
    "b = int(input(\"Enter second number:\"))\n",
    "print(\"a is greater\") if a>b else print(\"b is greater\")"
   ]
  },
  {
   "cell_type": "markdown",
   "metadata": {},
   "source": [
    "### 04) WAP to find out largest number from given three numbers."
   ]
  },
  {
   "cell_type": "code",
   "execution_count": 9,
   "metadata": {},
   "outputs": [
    {
     "name": "stdout",
     "output_type": "stream",
     "text": [
      "Enter first no.:4\n",
      "Enter second number:8\n",
      "Enter third number:9\n",
      "c is greater\n"
     ]
    }
   ],
   "source": [
    "a = int(input(\"Enter first no.:\"))\n",
    "b = int(input(\"Enter second number:\"))\n",
    "c = int(input(\"Enter third number:\"))\n",
    "if a>b and a>c:\n",
    "    print(\"a is greater\")\n",
    "elif b>a and b>c:\n",
    "    print(\"b is greater\")\n",
    "elif c>a and c>b:\n",
    "    print(\"c is greater\")\n",
    "else:\n",
    "    print(\"both numbers are equal\")"
   ]
  },
  {
   "cell_type": "markdown",
   "metadata": {},
   "source": [
    "### 05) WAP to check whether the given year is leap year or not.\n",
    "[If a year can be divisible by 4 but not divisible by 100 then it is leap year but if it is divisible by 400 then it is leap year]"
   ]
  },
  {
   "cell_type": "code",
   "execution_count": 10,
   "metadata": {},
   "outputs": [
    {
     "name": "stdout",
     "output_type": "stream",
     "text": [
      "Enter a year:2004\n",
      "It is a leap year\n"
     ]
    }
   ],
   "source": [
    "a = int(input(\"Enter a year:\"))\n",
    "if a%4==0 or a!=a%100 or a%400==0:\n",
    "    print(\"It is a leap year\")\n",
    "else:\n",
    "    print(\"Non-leap year\")"
   ]
  },
  {
   "cell_type": "markdown",
   "metadata": {},
   "source": [
    "### 06) WAP in python to display the name of the day according to the number given by the user."
   ]
  },
  {
   "cell_type": "code",
   "execution_count": 11,
   "metadata": {},
   "outputs": [
    {
     "name": "stdout",
     "output_type": "stream",
     "text": [
      "Enter a day in no.:7\n",
      "Sunday\n"
     ]
    }
   ],
   "source": [
    "a = int(input(\"Enter a day in no.:\"))\n",
    "if a==1:\n",
    "    print(\"Monday\")\n",
    "elif a==2:\n",
    "    print(\"Tuesday\")\n",
    "elif a==3:\n",
    "    print(\"Wednesday\")\n",
    "elif a==4:\n",
    "    print(\"Thursday\")\n",
    "elif a==5:\n",
    "    print(\"Friday\")\n",
    "elif a==6:\n",
    "    print(\"Saturday\")\n",
    "else:\n",
    "    print(\"Sunday\")"
   ]
  },
  {
   "cell_type": "markdown",
   "metadata": {},
   "source": [
    "### 07) WAP to implement simple calculator which performs (add,sub,mul,div) of two no. based on user input."
   ]
  },
  {
   "cell_type": "code",
   "execution_count": 13,
   "metadata": {},
   "outputs": [
    {
     "name": "stdout",
     "output_type": "stream",
     "text": [
      "Enter first no.:8\n",
      "Enter second number:5\n",
      "Enter a operator:+\n",
      "13.0\n"
     ]
    }
   ],
   "source": [
    "a = float(input(\"Enter first no.:\"))\n",
    "b = float(input(\"Enter second number:\"))\n",
    "c = str(input(\"Enter a operator:\"))\n",
    "match (c):\n",
    "    case '+':\n",
    "        print(a+b)\n",
    "    case '-':\n",
    "        print(a-b)\n",
    "    case '*':\n",
    "        print(a*b)\n",
    "    case '/':\n",
    "        print(a/b)\n",
    "    case _:\n",
    "        print(\"Enter a valid operator\")"
   ]
  },
  {
   "cell_type": "markdown",
   "metadata": {},
   "source": [
    "### 08) WAP to read marks of five subjects. Calculate percentage and print class accordingly. \n",
    "Fail below 35 </br>\n",
    "Pass Class between 35 to 45 </br>\n",
    "Second Class</br>\n",
    "between 45 to 60</br>\n",
    "First Class between 60 to 70</br> \n",
    "Distinction if more than 70"
   ]
  },
  {
   "cell_type": "code",
   "execution_count": 5,
   "metadata": {},
   "outputs": [
    {
     "name": "stdout",
     "output_type": "stream",
     "text": [
      "Enter marks of first subject:45\n",
      "Enter marks of second subject:45\n",
      "Enter marks of third subject:45\n",
      "Enter marks of fourth subject:45\n",
      "Enter marks of fifth subject:45\n",
      "Second Class\n"
     ]
    }
   ],
   "source": [
    "a = float(input(\"Enter marks of first subject:\"))\n",
    "b = float(input(\"Enter marks of second subject:\"))\n",
    "c = float(input(\"Enter marks of third subject:\"))\n",
    "d = float(input(\"Enter marks of fourth subject:\"))\n",
    "e = float(input(\"Enter marks of fifth subject:\"))\n",
    "p = ((a+b+c+d+e)/400)*100\n",
    "if p<35:\n",
    "    print(\"Fail\")\n",
    "elif p>35 and p<45:\n",
    "    print(\"Pass\")\n",
    "elif p>45 and p<60:\n",
    "    print(\"Second Class\")\n",
    "elif p>60 and p<70:\n",
    "    print(\"First Class\")\n",
    "else:\n",
    "    print(\"Distinction\")"
   ]
  },
  {
   "cell_type": "markdown",
   "metadata": {},
   "source": [
    " 09) Three sides of a triangle are entered through the keyboard, WAP to check whether the triangle is isosceles, equilateral, scalene or right-angled triangle."
   ]
  },
  {
   "cell_type": "code",
   "execution_count": 5,
   "metadata": {},
   "outputs": [
    {
     "name": "stdin",
     "output_type": "stream",
     "text": [
      "Enter the first side of the triangle:  5\n",
      "Enter the second side of the triangle:  6\n",
      "Enter the third side of the triangle:  4\n"
     ]
    },
    {
     "name": "stdout",
     "output_type": "stream",
     "text": [
      "The triangle is scalene.\n"
     ]
    }
   ],
   "source": [
    "side1 = float(input(\"Enter the first side of the triangle: \"))\n",
    "side2 = float(input(\"Enter the second side of the triangle: \"))\n",
    "side3 = float(input(\"Enter the third side of the triangle: \"))\n",
    "\n",
    "if (side1 + side2 > side3) and (side2 + side3 > side1) and (side1 + side3 > side2):\n",
    "    if side1 == side2 == side3:\n",
    "        print(\"The triangle is equilateral.\")\n",
    "    elif side1 == side2 or side2 == side3 or side1 == side3:\n",
    "        print(\"The triangle is isosceles.\")\n",
    "    elif (side1**2 + side2**2 == side3**2) or (side2**2 + side3**2 == side1**2) or (side1**2 + side3**2 == side2**2):\n",
    "        print(\"The triangle is right-angled.\")\n",
    "    else:\n",
    "        print(\"The triangle is scalene.\")\n",
    "else:\n",
    "    print(\"The given sides do not form a valid triangle.\")"
   ]
  },
  {
   "cell_type": "markdown",
   "metadata": {},
   "source": [
    "### 10) WAP to find the second largest number among three user input numbers."
   ]
  },
  {
   "cell_type": "code",
   "execution_count": 6,
   "metadata": {},
   "outputs": [
    {
     "name": "stdin",
     "output_type": "stream",
     "text": [
      "Enter the first number:  56\n",
      "Enter the second number:  85\n",
      "Enter the third number:  78\n"
     ]
    },
    {
     "name": "stdout",
     "output_type": "stream",
     "text": [
      "The second largest number is: 78.0\n"
     ]
    }
   ],
   "source": [
    "num1 = float(input(\"Enter the first number: \"))\n",
    "num2 = float(input(\"Enter the second number: \"))\n",
    "num3 = float(input(\"Enter the third number: \"))\n",
    "\n",
    "if (num1 > num2 and num1 < num3) or (num1 < num2 and num1 > num3):\n",
    "    second_largest = num1\n",
    "elif (num2 > num1 and num2 < num3) or (num2 < num1 and num2 > num3):\n",
    "    second_largest = num2\n",
    "else:\n",
    "    second_largest = num3\n",
    "\n",
    "print(f\"The second largest number is: {second_largest}\")"
   ]
  },
  {
   "cell_type": "markdown",
   "metadata": {},
   "source": [
    "### 11) WAP to calculate electricity bill based on following criteria. Which takes the unit from the user.\n",
    "a. First 1 to 50 units – Rs. 2.60/unit</br>\n",
    "b. Next 50 to 100 units – Rs. 3.25/unit</br>\n",
    "c. Next 100 to 200 units – Rs. 5.26/unit</br>\n",
    "d. above 200 units – Rs. 8.45/unit"
   ]
  },
  {
   "cell_type": "code",
   "execution_count": 7,
   "metadata": {},
   "outputs": [
    {
     "name": "stdin",
     "output_type": "stream",
     "text": [
      "Enter the number of units consumed:  256\n"
     ]
    },
    {
     "name": "stdout",
     "output_type": "stream",
     "text": [
      "Electricity Bill: Rs. 1291.70\n"
     ]
    }
   ],
   "source": [
    "units = int(input(\"Enter the number of units consumed: \"))\n",
    "\n",
    "bill = 0\n",
    "if units <= 50:\n",
    "    bill = units * 2.60\n",
    "elif units <= 100:\n",
    "    bill = 50 * 2.60 + (units - 50) * 3.25\n",
    "elif units <= 200:\n",
    "    bill = 50 * 2.60 + 50 * 3.25 + (units - 100) * 5.26\n",
    "else:\n",
    "    bill = 50 * 2.60 + 50 * 3.25 + 100 * 5.26 + (units - 200) * 8.45\n",
    "\n",
    "print(f\"Electricity Bill: Rs. {bill:.2f}\")"
   ]
  }
 ],
 "metadata": {
  "kernelspec": {
   "display_name": "Python 3 (ipykernel)",
   "language": "python",
   "name": "python3"
  },
  "language_info": {
   "codemirror_mode": {
    "name": "ipython",
    "version": 3
   },
   "file_extension": ".py",
   "mimetype": "text/x-python",
   "name": "python",
   "nbconvert_exporter": "python",
   "pygments_lexer": "ipython3",
   "version": "3.12.7"
  }
 },
 "nbformat": 4,
 "nbformat_minor": 4
}
