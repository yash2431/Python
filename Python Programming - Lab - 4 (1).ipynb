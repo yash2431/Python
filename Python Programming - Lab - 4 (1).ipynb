{
 "cells": [
  {
   "cell_type": "markdown",
   "metadata": {},
   "source": [
    "\n",
    "<a href='https://www.darshan.ac.in/'> <img src='https://www.darshan.ac.in/Content/media/DU_Logo.svg' width=\"250\" height=\"300\"/></a>\n",
    "<pre>\n",
    "<center><b><h1>Python Programming - 2301CS404</b></center>\n",
    "<center><b><h1>Lab - 4</b></center>  \n",
    "<center><b><h1>Yash Pipalava (23010101208)</b></center>\n",
    "<pre>"
   ]
  },
  {
   "cell_type": "markdown",
   "metadata": {},
   "source": [
    "# String"
   ]
  },
  {
   "cell_type": "markdown",
   "metadata": {},
   "source": [
    "### 01) WAP to check whether the given string is palindrome or not."
   ]
  },
  {
   "cell_type": "code",
   "execution_count": 2,
   "metadata": {},
   "outputs": [
    {
     "name": "stdout",
     "output_type": "stream",
     "text": [
      "Enter a String:abccba\n",
      "abccba is palindrome!!\n"
     ]
    }
   ],
   "source": [
    "string=input(\"Enter a String:\");\n",
    "reverse=string[::-1];\n",
    "\n",
    "\n",
    "if(string==reverse):\n",
    "    \n",
    "    print(f\"{string} is palindrome!!\");\n",
    "else:\n",
    "    print(f\"{string} is not palindrome!!\");"
   ]
  },
  {
   "cell_type": "markdown",
   "metadata": {},
   "source": [
    "### 02) WAP to reverse the words in the given string."
   ]
  },
  {
   "cell_type": "code",
   "execution_count": 4,
   "metadata": {},
   "outputs": [
    {
     "name": "stdout",
     "output_type": "stream",
     "text": [
      "Enter a String:lknkljn\n",
      "Reversed string:njlknkl\n"
     ]
    }
   ],
   "source": [
    "string=input(\"Enter a String:\");\n",
    "reverse=string[::-1];\n",
    "\n",
    "print(f\"Reversed string:{reverse}\");"
   ]
  },
  {
   "cell_type": "markdown",
   "metadata": {},
   "source": [
    "### 03) WAP to remove ith character from given string."
   ]
  },
  {
   "cell_type": "code",
   "execution_count": 5,
   "metadata": {},
   "outputs": [
    {
     "name": "stdout",
     "output_type": "stream",
     "text": [
      "Enter a string: jksfgkjldsn\n",
      "Enter the position to remove a character: 2\n",
      "Modified string: jkfgkjldsn\n"
     ]
    }
   ],
   "source": [
    "string = input('Enter a string: ')\n",
    "i = int(input('Enter the position to remove a character: '))\n",
    "\n",
    "if i < 0 or i >= len(string):\n",
    "    print('Index out of range');\n",
    "else:\n",
    "    string = string[:i] + string[i+1:]\n",
    "    print('Modified string:', string);"
   ]
  },
  {
   "cell_type": "markdown",
   "metadata": {},
   "source": [
    "### 04) WAP to find length of string without using len function."
   ]
  },
  {
   "cell_type": "code",
   "execution_count": 6,
   "metadata": {},
   "outputs": [
    {
     "name": "stdout",
     "output_type": "stream",
     "text": [
      "Enter the string: Malay\n",
      "The length of the string is 5\n"
     ]
    }
   ],
   "source": [
    "string = input('Enter the string: ')\n",
    "length = 0\n",
    "\n",
    "for i in string:\n",
    "    length += 1\n",
    "\n",
    "print(f'The length of the string is {length}')"
   ]
  },
  {
   "cell_type": "markdown",
   "metadata": {},
   "source": [
    "### 05) WAP to print even length word in string."
   ]
  },
  {
   "cell_type": "code",
   "execution_count": 19,
   "metadata": {},
   "outputs": [
    {
     "name": "stdout",
     "output_type": "stream",
     "text": [
      "Enter the string: guyihu\n",
      "guyihu\n"
     ]
    }
   ],
   "source": [
    "string = input('Enter the string: ')\n",
    "words = string.split()\n",
    "\n",
    "for word in words:\n",
    "    if len(word) % 2 == 0:\n",
    "        print(word);"
   ]
  },
  {
   "cell_type": "markdown",
   "metadata": {},
   "source": [
    "### 06) WAP to count numbers of vowels in given string."
   ]
  },
  {
   "cell_type": "code",
   "execution_count": 24,
   "metadata": {},
   "outputs": [
    {
     "name": "stdout",
     "output_type": "stream",
     "text": [
      "Enter a string:AJPOOR\n",
      "The number of vowel is 3\n"
     ]
    }
   ],
   "source": [
    "string=input(\"Enter a string:\");\n",
    "string=string.lower();\n",
    "count=0;\n",
    "\n",
    "for i in string:\n",
    "    if(i=='a'or i=='e' or i=='i' or i=='o' or i=='u'):\n",
    "        count+=1;\n",
    "print(f\"The number of vowel is {count}\");"
   ]
  },
  {
   "cell_type": "markdown",
   "metadata": {},
   "source": [
    "### 07) WAP to capitalize the first and last character of each word in a string."
   ]
  },
  {
   "cell_type": "code",
   "execution_count": 33,
   "metadata": {},
   "outputs": [
    {
     "name": "stdout",
     "output_type": "stream",
     "text": [
      "Enter a string: try\n",
      "Modified string: TrY\n"
     ]
    }
   ],
   "source": [
    "string = input(\"Enter a string: \")\n",
    "words = string.split()\n",
    "result = []\n",
    "\n",
    "for word in words:\n",
    "    if len(word) > 1:\n",
    "        word = word[0].upper() + word[1:-1] + word[-1].upper()\n",
    "    else:\n",
    "        word = word.upper()\n",
    "    result.append(word)\n",
    "\n",
    "output = ' '.join(result)\n",
    "print(\"Modified string:\", output);"
   ]
  },
  {
   "cell_type": "markdown",
   "metadata": {},
   "source": [
    "### 08) WAP to convert given array to string."
   ]
  },
  {
   "cell_type": "code",
   "execution_count": 30,
   "metadata": {},
   "outputs": [
    {
     "name": "stdout",
     "output_type": "stream",
     "text": [
      "Converted string:Hello World From Python\n"
     ]
    }
   ],
   "source": [
    "array = ['Hello', 'World', 'From', 'Python']\n",
    "result = ' '.join(array)\n",
    "\n",
    "print(f\"Converted string:{result}\");"
   ]
  },
  {
   "cell_type": "markdown",
   "metadata": {},
   "source": [
    "### 09) Check if the password and confirm password is same or not. \n",
    "### In case of only case's mistake, show the error message."
   ]
  },
  {
   "cell_type": "code",
   "execution_count": 37,
   "metadata": {},
   "outputs": [
    {
     "name": "stdout",
     "output_type": "stream",
     "text": [
      "Enter password:mnbvcxz\n",
      "Enter confirm_password:mnbVcxz\n",
      "Case's mistake\n"
     ]
    }
   ],
   "source": [
    "password=input(\"Enter password:\");\n",
    "confirm_password=input(\"Enter confirm_password:\");\n",
    "if password==confirm_password:\n",
    "    print(\"Password matched\");\n",
    "elif password.lower()==confirm_password.lower():\n",
    "    print(\"Case's mistake\")\n",
    "else:\n",
    "    print(\"Password unmatched\");"
   ]
  },
  {
   "cell_type": "markdown",
   "metadata": {},
   "source": [
    "### 10) : Display credit card number. \n",
    "### card no. : 1234 5678 9012 3456\n",
    "### display as  : **** **** **** 3456"
   ]
  },
  {
   "cell_type": "code",
   "execution_count": 38,
   "metadata": {},
   "outputs": [
    {
     "name": "stdout",
     "output_type": "stream",
     "text": [
      "Enter the credit card number (with spaces): 1234 5678 9012 3456\n",
      "Masked card number: **** **** **** 3456\n"
     ]
    }
   ],
   "source": [
    "card_number = input(\"Enter the credit card number (with spaces): \")\n",
    "\n",
    "if ''.join(card_number.split()).isnumeric() and len(card_number) == 19:\n",
    "    parts = card_number.split()\n",
    "    masked_parts = ['****'] * (len(parts) - 1) + [parts[-1]]\n",
    "    masked_card = ' '.join(masked_parts)\n",
    "    print(\"Masked card number:\", masked_card);\n",
    "else:\n",
    "    print(\"Invalid card number\");"
   ]
  },
  {
   "cell_type": "markdown",
   "metadata": {},
   "source": [
    "### 11) : Checking if the two strings are Anagram or not.\n",
    "### s1 = decimal and s2 = medical are Anagram"
   ]
  },
  {
   "cell_type": "code",
   "execution_count": 42,
   "metadata": {},
   "outputs": [
    {
     "name": "stdout",
     "output_type": "stream",
     "text": [
      "Enter the first string: mug\n",
      "Enter the second string: gum\n",
      "\"mug\" and \"gum\" are Anagrams.\n"
     ]
    }
   ],
   "source": [
    "s1 = input(\"Enter the first string: \")\n",
    "s2 = input(\"Enter the second string: \")\n",
    "\n",
    "s1 = s1.replace(\" \", \"\").lower()\n",
    "s2 = s2.replace(\" \", \"\").lower()\n",
    "\n",
    "if sorted(s1) == sorted(s2):\n",
    "    print(f'\"{s1}\" and \"{s2}\" are Anagrams.')\n",
    "else:\n",
    "    print(f'\"{s1}\" and \"{s2}\" are not Anagrams.')"
   ]
  },
  {
   "cell_type": "markdown",
   "metadata": {},
   "source": [
    "### 12) : Rearrange the given string. First lowercase then uppercase alphabets.\n",
    "### input : EHlsarwiwhtwMV\n",
    "### output : lsarwiwhtwEHMV"
   ]
  },
  {
   "cell_type": "code",
   "execution_count": 43,
   "metadata": {},
   "outputs": [
    {
     "name": "stdout",
     "output_type": "stream",
     "text": [
      "Enter the string: EHlsarwiwhtwMV\n",
      "Rearranged string: lsarwiwhtwEHMV\n"
     ]
    }
   ],
   "source": [
    "string = input(\"Enter the string: \")\n",
    "\n",
    "lowercase = ''.join([char for char in string if char.islower()])\n",
    "uppercase = ''.join([char for char in string if char.isupper()])\n",
    "result = lowercase + uppercase\n",
    "\n",
    "print(\"Rearranged string:\", result);"
   ]
  }
 ],
 "metadata": {
  "kernelspec": {
   "display_name": "Python 3 (ipykernel)",
   "language": "python",
   "name": "python3"
  },
  "language_info": {
   "codemirror_mode": {
    "name": "ipython",
    "version": 3
   },
   "file_extension": ".py",
   "mimetype": "text/x-python",
   "name": "python",
   "nbconvert_exporter": "python",
   "pygments_lexer": "ipython3",
   "version": "3.12.7"
  },
  "vscode": {
   "interpreter": {
    "hash": "31f2aee4e71d21fbe5cf8b01ff0e069b9275f58929596ceb00d14d90e3e16cd6"
   }
  }
 },
 "nbformat": 4,
 "nbformat_minor": 4
}
